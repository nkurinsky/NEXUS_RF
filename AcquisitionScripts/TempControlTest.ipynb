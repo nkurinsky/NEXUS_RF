{
 "cells": [
  {
   "cell_type": "code",
   "execution_count": 2,
   "metadata": {},
   "outputs": [],
   "source": [
    "import sys, os\n",
    "import numpy as np\n",
    "\n",
    "from time import sleep\n",
    "\n",
    "## Point to the backend function scripts\n",
    "sys.path.insert(1, \"../DeviceControl\")\n",
    "\n",
    "from NEXUSFunctions import * #control NEXUS fridge"
   ]
  },
  {
   "cell_type": "code",
   "execution_count": 3,
   "metadata": {},
   "outputs": [],
   "source": [
    "## Temperature scan settings [K]\n",
    "Temp_base =  11e-3\n",
    "Temp_min  =  20e-3\n",
    "Temp_max  = 350e-3\n",
    "Temp_step =  10e-3\n",
    "\n",
    "## Temperature stabilization params\n",
    "tempTolerance =  1e-4     ## K\n",
    "sleepTime     =  5        ## sec\n",
    "stabletTime   = 60        ## sec"
   ]
  },
  {
   "cell_type": "code",
   "execution_count": 4,
   "metadata": {},
   "outputs": [],
   "source": [
    "def temp_change_and_wait(new_sp):\n",
    "\n",
    "    print(\"CHANGING SETPOINT TO\",new_sp,\"K\")\n",
    "    nf.setSP(new_sp)\n",
    "\n",
    "    cTemp=float(nf.getTemp())\n",
    "    print(\"Waiting for Fridge to Reach Temperature\")\n",
    "    print(\"Monitoring temp every\",sleepTime,\"seconds\")\n",
    "    print(\"...\",cTemp)\n",
    "    terr = temp-cTemp\n",
    "    while(np.abs(terr) > tempTolerance):\n",
    "        sleep(sleepTime)\n",
    "        try:\n",
    "            cTemp=float(nf.getTemp())\n",
    "            terr = temp-cTemp\n",
    "            print(\"...\",cTemp,\"(\"+str(terr)+\")\")\n",
    "        except:\n",
    "            print(\"Socket Failed, skipping reading\")\n",
    "\n",
    "    print(\"Holding at current temp for\",stabletTime,\"seconds\")\n",
    "    sleep(stabletTime)\n",
    "\n",
    "    return 0"
   ]
  },
  {
   "cell_type": "code",
   "execution_count": null,
   "metadata": {},
   "outputs": [],
   "source": [
    "## Initialize the NEXUS temperature servers\n",
    "nf1 = NEXUSTemps(server_ip=\"192.168.0.31\",server_port=11031)\n",
    "nf2 = NEXUSTemps(server_ip=\"192.168.0.32\",server_port=11032)"
   ]
  },
  {
   "cell_type": "code",
   "execution_count": null,
   "metadata": {},
   "outputs": [],
   "source": [
    "np.array([nf1.getResistance(), nf2.getResistance()])"
   ]
  },
  {
   "cell_type": "code",
   "execution_count": null,
   "metadata": {},
   "outputs": [],
   "source": [
    "np.array([nf1.getTemp(), nf2.getTemp()])"
   ]
  }
 ],
 "metadata": {
  "kernelspec": {
   "display_name": "Python 3",
   "language": "python",
   "name": "python3"
  },
  "language_info": {
   "codemirror_mode": {
    "name": "ipython",
    "version": 3
   },
   "file_extension": ".py",
   "mimetype": "text/x-python",
   "name": "python",
   "nbconvert_exporter": "python",
   "pygments_lexer": "ipython3",
   "version": "3.7.4"
  }
 },
 "nbformat": 4,
 "nbformat_minor": 2
}
