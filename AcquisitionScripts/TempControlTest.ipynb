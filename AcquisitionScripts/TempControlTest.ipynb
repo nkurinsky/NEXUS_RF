{
 "cells": [
  {
   "cell_type": "code",
   "execution_count": 5,
   "metadata": {},
   "outputs": [],
   "source": [
    "import sys, os\n",
    "import numpy as np\n",
    "\n",
    "from time import sleep\n",
    "\n",
    "## Point to the backend function scripts\n",
    "sys.path.insert(1, \"../DeviceControl\")\n",
    "\n",
    "from NEXUSFunctions import * #control NEXUS fridge"
   ]
  },
  {
   "cell_type": "code",
   "execution_count": 7,
   "metadata": {},
   "outputs": [],
   "source": [
    "## Initialize the NEXUS temperature servers\n",
    "nf1 = NEXUSTemps(server_ip=\"192.168.0.31\",server_port=11031) ## free, COLD PLATE, STILL\n",
    "nf2 = NEXUSTemps(server_ip=\"192.168.0.32\",server_port=11032) ## MIXING CHAMBER, 2ND STAGE, 1ST STAGE\n",
    "nf3 = NEXUSTemps(server_ip=\"192.168.0.34\",server_port=11034) ## Heater on MC "
   ]
  },
  {
   "cell_type": "code",
   "execution_count": 8,
   "metadata": {},
   "outputs": [
    {
     "name": "stdout",
     "output_type": "stream",
     "text": [
      "[350. 340. 330. 320. 310. 300. 290. 280. 270. 260. 250. 240. 230. 220.\n",
      " 210. 200. 190. 180. 170. 160. 150. 140. 130. 120. 110. 100.  90.  80.\n",
      "  70.  60.  50.  40.  30.  20.  11.] mK 35\n"
     ]
    }
   ],
   "source": [
    "## Temperature scan settings [K]\n",
    "Temp_base =  11e-3\n",
    "Temp_min  =  20e-3\n",
    "Temp_max  = 350e-3\n",
    "Temp_step =  10e-3\n",
    "\n",
    "## Temperature stabilization params\n",
    "tempTolerance =   1e-4     ## K\n",
    "sleepTime     =  10        ## sec\n",
    "stableTime    = 180        ## sec\n",
    "\n",
    "Temps = np.arange(Temp_min,Temp_max+Temp_step,Temp_step)\n",
    "Temps = Temps[::-1]\n",
    "\n",
    "if (Temp_base) < Temps[-1]:\n",
    "    Temps = np.append(Temps,Temp_base)\n",
    "    \n",
    "print(Temps*1e3,\"mK\",len(Temps))"
   ]
  },
  {
   "cell_type": "code",
   "execution_count": 9,
   "metadata": {},
   "outputs": [],
   "source": [
    "def temp_change_and_wait(new_sp):\n",
    "\n",
    "    print(\"CHANGING SETPOINT TO\",new_sp,\"K\")\n",
    "    nf3.setSP(new_sp)\n",
    "\n",
    "    cTemp=float(nf3.getTemp())\n",
    "    print(\"Waiting for Fridge to Reach Temperature\")\n",
    "    print(\"Monitoring temp every\",sleepTime,\"seconds\")\n",
    "    print(\"...\",cTemp*1e3,\"mK\")\n",
    "    terr = new_sp-cTemp\n",
    "    while(np.abs(terr) > tempTolerance):\n",
    "        sleep(sleepTime)\n",
    "        try:\n",
    "            cTemp=float(nf3.getTemp())\n",
    "            terr = new_sp-cTemp\n",
    "            print(\"...\",cTemp*1e3,\"(\"+terr*1e3+\")\",\"mK\")\n",
    "        except:\n",
    "            print(\"Socket Failed, skipping reading\")\n",
    "\n",
    "    print(\"Holding at current temp for\",stableTime,\"seconds\")\n",
    "    sleep(stableTime)\n",
    "    print(\"Done.\")\n",
    "\n",
    "    return 0"
   ]
  },
  {
   "cell_type": "code",
   "execution_count": 12,
   "metadata": {},
   "outputs": [
    {
     "name": "stdout",
     "output_type": "stream",
     "text": [
      "CHANGING SETPOINT TO 0.35 K\n",
      "Changing setpoint to 0.35\n",
      "Waiting for Fridge to Reach Temperature\n",
      "Monitoring temp every 10 seconds\n",
      "... 0.35 mK\n",
      "Holding at current temp for 180 seconds\n"
     ]
    },
    {
     "data": {
      "text/plain": [
       "0"
      ]
     },
     "execution_count": 12,
     "metadata": {},
     "output_type": "execute_result"
    }
   ],
   "source": [
    "temp_change_and_wait(0.350)"
   ]
  },
  {
   "cell_type": "code",
   "execution_count": null,
   "metadata": {},
   "outputs": [],
   "source": [
    "np.array([nf1.getResistance(), nf2.getResistance()])"
   ]
  },
  {
   "cell_type": "code",
   "execution_count": null,
   "metadata": {},
   "outputs": [],
   "source": [
    "np.array([nf1.getTemp(), nf2.getTemp()])"
   ]
  }
 ],
 "metadata": {
  "kernelspec": {
   "display_name": "Python 3",
   "language": "python",
   "name": "python3"
  },
  "language_info": {
   "codemirror_mode": {
    "name": "ipython",
    "version": 3
   },
   "file_extension": ".py",
   "mimetype": "text/x-python",
   "name": "python",
   "nbconvert_exporter": "python",
   "pygments_lexer": "ipython3",
   "version": "3.8.5"
  }
 },
 "nbformat": 4,
 "nbformat_minor": 2
}
