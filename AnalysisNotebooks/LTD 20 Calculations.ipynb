{
 "cells": [
  {
   "cell_type": "code",
   "execution_count": 1,
   "metadata": {},
   "outputs": [],
   "source": [
    "import sys\n",
    "import numpy as np\n",
    "\n",
    "sys.path.append('/home/dylan/NEXUS_RF/BackendTools')\n",
    "import MB_equations as MBe"
   ]
  },
  {
   "cell_type": "markdown",
   "metadata": {},
   "source": [
    "## Device Parameters\n",
    "Define and calculate some numbers that are needed for later calculations. The $\\alpha$ and $\\Delta$ values were measured for a sister device at Caltech. "
   ]
  },
  {
   "cell_type": "code",
   "execution_count": 2,
   "metadata": {},
   "outputs": [],
   "source": [
    "## Define the MB parameters\n",
    "alpha = 0.03801\n",
    "Delta = 0.184         ## meV\n",
    "D     = Delta*1e-3    ##  eV\n",
    "\n",
    "## Temperature of the device\n",
    "T = 10.0e-3 ## K\n",
    "\n",
    "## Superconducting volume per resonator\n",
    "V = 3e4 ## um^3\n",
    "\n",
    "## Energy of the incident photons\n",
    "hv = 2.61 ## eV (475 nm)\n",
    "\n",
    "## Readout settings\n",
    "rf_power = -72.5   ## dBm at USRP\n",
    "f        = 4.241985e9 / 1e6   ## MHz"
   ]
  },
  {
   "cell_type": "code",
   "execution_count": 3,
   "metadata": {},
   "outputs": [
    {
     "name": "stdout",
     "output_type": "stream",
     "text": [
      "Readout Power: -72.5 dBm\n",
      "Readout Freq.: 4241.985 MHz\n",
      "Device Temp.:  10.0 mK\n",
      "==============================\n",
      "alpha:  3.801 %\n",
      "Delta:  0.184 meV\n",
      "V:      30000.0 um^3\n",
      "k1:     2.276385718161626e-07 um^3\n",
      "k2:     3.9131623591500685e-07 um^3\n"
     ]
    }
   ],
   "source": [
    "k1 = MBe.kappa_1(T, f*1e6, D) *1e6*1e6*1e6\n",
    "k2 = MBe.kappa_2(T, f*1e6, D) *1e6*1e6*1e6\n",
    "\n",
    "print(\"Readout Power:\", rf_power, \"dBm\")\n",
    "print(\"Readout Freq.:\", f , \"MHz\")\n",
    "print(\"Device Temp.: \", T*1e3, \"mK\")\n",
    "print(\"==============================\")\n",
    "print(\"alpha: \", alpha*100, \"%\")\n",
    "print(\"Delta: \", Delta    , \"meV\")\n",
    "print(\"V:     \", V        , \"um^3\")\n",
    "print(\"k1:    \", k1       , \"um^3\")\n",
    "print(\"k2:    \", k2       , \"um^3\")"
   ]
  },
  {
   "cell_type": "markdown",
   "metadata": {},
   "source": [
    "## Resolution from Noise\n",
    "We can determine an estimate for the resolution in each readout unit by running an OF on noise data. In this case, we use the average pulse from the largest LED voltage data as the signal template, and run it on the second half (pulse-free region) of the lowest LED voltage data."
   ]
  },
  {
   "cell_type": "code",
   "execution_count": 4,
   "metadata": {},
   "outputs": [],
   "source": [
    "## These numbers came from July Data (max=6.0 V)\n",
    "resolutions_from_noise = { ## [max pulse height , norm baseline res , readout res]\n",
    "    \"df\" : [6.96625263820683e-07, 0.007779148914891695, 5.419151665136807e-09],\n",
    "    \"dQ\" : [4.346751025013649e-07, 0.024587726973304063, 1.0687672742396518e-08],\n",
    "    \"dk1\": [203.68695317546957, 0.024587726973304063, 5.008199192702615],\n",
    "    \"dk2\": [18.499778323924932, 0.007779148914891696, 0.14391253047429756]\n",
    "}"
   ]
  },
  {
   "cell_type": "code",
   "execution_count": 5,
   "metadata": {},
   "outputs": [],
   "source": [
    "## These numbers came from February Data\n",
    "resolutions_from_noise = { ## [max pulse height , norm baseline res , readout res]\n",
    "    \"df\" : [4.652203226819528e-07, 0.007788494922923435, 3.6233661212491918e-09],\n",
    "    \"dQ\" : [2.2831555009892842e-07, 0.03239491433878988, 7.396262687668476e-09],\n",
    "    \"dk1\": [106.98715901911099, 0.03239491433878989, 3.4658398517745925],\n",
    "    \"dk2\": [12.354523764471535, 0.0077884949229234356, 0.09622314561472349]\n",
    "}"
   ]
  },
  {
   "cell_type": "code",
   "execution_count": 6,
   "metadata": {},
   "outputs": [
    {
     "name": "stdout",
     "output_type": "stream",
     "text": [
      "df/f: 3.6233661212491918e-09\n",
      "d1/Q: 7.396262687668476e-09\n",
      "dk_2: 0.09622314561472349\n",
      "dk_1: 3.4658398517745925\n"
     ]
    }
   ],
   "source": [
    "## Print the numbers that came from the OF in each unit\n",
    "print(\"df/f:\", resolutions_from_noise[\"df\"][2])\n",
    "print(\"d1/Q:\", resolutions_from_noise[\"dQ\"][2])\n",
    "print(\"dk_2:\", resolutions_from_noise[\"dk2\"][2])\n",
    "print(\"dk_1:\", resolutions_from_noise[\"dk1\"][2])"
   ]
  },
  {
   "cell_type": "markdown",
   "metadata": {},
   "source": [
    "The fractional frequency shift and excess quasiparticle density are related by the equation $$\\frac{\\delta f}{f} = - \\frac{\\alpha}{2} \\kappa_2 n_\\mathrm{qp} $$ which implies the relation between resolution in $\\delta f/f$ is related to the resolution in quasiparticle density by $$ \\sigma_{df/f} = \\frac{\\alpha}{2} \\kappa_2 \\sigma_{n_\\mathrm{qp}} $$ or $$ \\sigma_{n_\\mathrm{qp}} = \\frac{2}{\\alpha \\kappa_2} \\sigma_{df/f} $$ as is implemented in the `quasiparticle_basis` conversion."
   ]
  },
  {
   "cell_type": "code",
   "execution_count": 7,
   "metadata": {},
   "outputs": [
    {
     "name": "stdout",
     "output_type": "stream",
     "text": [
      "dk_2 resolution, calculated: 0.4872103190319991 um^-3\n",
      "this is a factor 5.06333809728882 larger than found by OF\n"
     ]
    }
   ],
   "source": [
    "sigma_k2_calc = 2./(k2 * alpha) * resolutions_from_noise[\"df\"][2]\n",
    "print(\"dk_2 resolution, calculated:\", sigma_k2_calc, \"um^-3\")\n",
    "print(\"this is a factor\", sigma_k2_calc/resolutions_from_noise[\"dk2\"][2], \"larger than found by OF\")"
   ]
  },
  {
   "cell_type": "markdown",
   "metadata": {},
   "source": [
    "Likewise, we can calculate the resolution in quasiparticle fluctuations in the $\\kappa_1$ direction using the equation $$ \\delta \\frac{1}{Q} = \\alpha \\kappa_1 n_\\mathrm{qp} $$ and as such $$ \\sigma_{n_\\mathrm{qp}} = \\frac{1}{\\alpha \\kappa_1} \\sigma_{1/Q} $$"
   ]
  },
  {
   "cell_type": "code",
   "execution_count": 8,
   "metadata": {},
   "outputs": [
    {
     "name": "stdout",
     "output_type": "stream",
     "text": [
      "dk_1 resolution, calculated: 0.8548080540486652 um^-3\n",
      "this is a factor 4.054524095040029 smaller than found by OF\n"
     ]
    }
   ],
   "source": [
    "sigma_k1_calc = 1./(k1 * alpha) * resolutions_from_noise[\"dQ\"][2]\n",
    "print(\"dk_1 resolution, calculated:\", sigma_k1_calc, \"um^-3\")\n",
    "print(\"this is a factor\", resolutions_from_noise[\"dk1\"][2]/sigma_k1_calc, \"smaller than found by OF\")"
   ]
  },
  {
   "cell_type": "markdown",
   "metadata": {},
   "source": [
    "Now we can compute the resolution on energy absorbed by the superconductor, by using the volume of the superconductor and the energy it takes to break a Cooper pair: $$ \\sigma_E^\\mathrm{abs} = \\sigma_{n_\\mathrm{qp}} V \\Delta $$"
   ]
  },
  {
   "cell_type": "code",
   "execution_count": 9,
   "metadata": {},
   "outputs": [
    {
     "name": "stdout",
     "output_type": "stream",
     "text": [
      "Resolution on energy absorbed by superconductor: 2.689400961056635 eV\n"
     ]
    }
   ],
   "source": [
    "sig_E_abs_eV = sigma_k2_calc * V * D\n",
    "print(\"Resolution on energy absorbed by superconductor:\",sig_E_abs_eV,\"eV\")"
   ]
  },
  {
   "cell_type": "markdown",
   "metadata": {},
   "source": [
    "## Resolution from Pulse Amplitude Histogram Fits"
   ]
  },
  {
   "cell_type": "code",
   "execution_count": 10,
   "metadata": {},
   "outputs": [],
   "source": [
    "## This is the fit result for r from the July(?) data\n",
    "s0_from_fit = -1\n",
    "r_from_fit  = -1"
   ]
  },
  {
   "cell_type": "code",
   "execution_count": 11,
   "metadata": {},
   "outputs": [],
   "source": [
    "## This is the fit result for r from the February data (df/f)\n",
    "s0_from_fit = 0.007548731381363116\n",
    "r_from_fit  = 6.187766079809401e-05"
   ]
  },
  {
   "cell_type": "markdown",
   "metadata": {},
   "source": [
    "From the fit value of $\\sigma_0$ and the maximum frational frequency shift pulse height $s_{df/f}$, we can determine the resolution on qp density: $$ \\sigma_\\mathrm{qp}^{\\kappa_2} = \\frac{2}{\\alpha \\kappa_2} (\\sigma_0 s_{df/f} ) $$"
   ]
  },
  {
   "cell_type": "code",
   "execution_count": 12,
   "metadata": {},
   "outputs": [
    {
     "name": "stdout",
     "output_type": "stream",
     "text": [
      "QP resolution from fit: 0.47221187931651193 um^-3\n"
     ]
    }
   ],
   "source": [
    "sig_qp_k2_fit = (2/(alpha*k2)) * s0_from_fit * resolutions_from_noise['df'][0]\n",
    "print(\"QP resolution from fit:\",sig_qp_k2_fit,\"um^-3\")"
   ]
  },
  {
   "cell_type": "markdown",
   "metadata": {},
   "source": [
    "And from that we calculate the resolution on energy absorbed by the superconductor in the usual way $$ \\sigma_E^\\mathrm{abs} = \\sigma_\\mathrm{qp} V \\Delta $$"
   ]
  },
  {
   "cell_type": "code",
   "execution_count": 13,
   "metadata": {},
   "outputs": [
    {
     "name": "stdout",
     "output_type": "stream",
     "text": [
      "Resolution on energy absorbed by superconductor: 2.6066095738271455 eV (from fit)\n"
     ]
    }
   ],
   "source": [
    "sig_E_abs_eV_fit = sig_qp_k2_fit * V * D\n",
    "print(\"Resolution on energy absorbed by superconductor:\",sig_E_abs_eV_fit,\"eV (from fit)\")"
   ]
  },
  {
   "cell_type": "markdown",
   "metadata": {},
   "source": [
    "Since we fit to an equation of the form $$ \\sigma_E = \\sqrt{\\sigma_0^2 + r \\times \\mu} $$ where $r$ is the responsivity per photon, we can determine the responsivity per unit energy by dividing by the photon energy $$ R \\equiv r/(h\\nu) $$"
   ]
  },
  {
   "cell_type": "code",
   "execution_count": 14,
   "metadata": {},
   "outputs": [
    {
     "name": "stdout",
     "output_type": "stream",
     "text": [
      "Responsivity per eV: 2.3707916014595405e-05\n"
     ]
    }
   ],
   "source": [
    "R = r_from_fit/hv\n",
    "print(\"Responsivity per eV:\",R)"
   ]
  },
  {
   "cell_type": "markdown",
   "metadata": {},
   "source": [
    "The resolution in our responsivity can be converted to resolution on energy deposited in the substrate via $$ \\sigma_E^\\mathrm{dep} = \\frac{ \\sigma_0 }{R} $$ where $\\sigma_0$ is in our normalized units."
   ]
  },
  {
   "cell_type": "code",
   "execution_count": 15,
   "metadata": {},
   "outputs": [
    {
     "name": "stdout",
     "output_type": "stream",
     "text": [
      "Resolution on energy deposited in substrate: 318.40552230385236 eV\n"
     ]
    }
   ],
   "source": [
    "sig_E_dep_eV_fit = s0_from_fit / R\n",
    "print(\"Resolution on energy deposited in substrate:\",sig_E_dep_eV_fit,\"eV\")"
   ]
  },
  {
   "cell_type": "markdown",
   "metadata": {},
   "source": [
    "From the canonical definition of $\\eta_\\mathrm{ph}$, we can find $$ \\eta_\\mathrm{ph} = \\frac{\\sigma_E^\\mathrm{abs}}{\\sigma_E^\\mathrm{dep}} $$"
   ]
  },
  {
   "cell_type": "code",
   "execution_count": 16,
   "metadata": {},
   "outputs": [
    {
     "name": "stdout",
     "output_type": "stream",
     "text": [
      "Energy collection efficiency: 0.8186445872442107 %\n"
     ]
    }
   ],
   "source": [
    "eta_ph = sig_E_abs_eV_fit / sig_E_dep_eV_fit\n",
    "print(\"Energy collection efficiency:\", eta_ph*100, \"%\")"
   ]
  },
  {
   "cell_type": "code",
   "execution_count": null,
   "metadata": {},
   "outputs": [],
   "source": []
  }
 ],
 "metadata": {
  "kernelspec": {
   "display_name": "Python 3",
   "language": "python",
   "name": "python3"
  },
  "language_info": {
   "codemirror_mode": {
    "name": "ipython",
    "version": 3
   },
   "file_extension": ".py",
   "mimetype": "text/x-python",
   "name": "python",
   "nbconvert_exporter": "python",
   "pygments_lexer": "ipython3",
   "version": "3.7.4"
  }
 },
 "nbformat": 4,
 "nbformat_minor": 2
}
