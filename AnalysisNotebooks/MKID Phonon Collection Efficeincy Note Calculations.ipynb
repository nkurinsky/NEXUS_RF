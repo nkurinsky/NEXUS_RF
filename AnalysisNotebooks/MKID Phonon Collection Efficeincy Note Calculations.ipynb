{
 "cells": [
  {
   "cell_type": "markdown",
   "metadata": {},
   "source": [
    "## Import the libraries"
   ]
  },
  {
   "cell_type": "code",
   "execution_count": 1,
   "metadata": {},
   "outputs": [],
   "source": [
    "import sys\n",
    "import numpy as np\n",
    "\n",
    "sys.path.append('/home/nexus-admin/NEXUS_RF/BackendTools')\n",
    "import MB_equations as MBe\n",
    "import TimestreamHelperFunctions as Thf"
   ]
  },
  {
   "cell_type": "markdown",
   "metadata": {},
   "source": [
    "## Define some parameters"
   ]
  },
  {
   "cell_type": "code",
   "execution_count": 2,
   "metadata": {},
   "outputs": [],
   "source": [
    "## MB Results come from fitting a temperature scan at a specified RF power\n",
    "use_nexus_MBvals = False\n",
    "\n",
    "if use_nexus_MBvals:\n",
    "    ## As measured in NEXUS\n",
    "    MB_fit_vals = np.array([4.24216+9.75e-6, \n",
    "                            0.177  ,\n",
    "                            0.0125 ,\n",
    "                            4.1e7  ]) ## [ F0 [GHz] , Delta [meV] , alpha , Qi0 ]\n",
    "else:\n",
    "    ## As measured on Caltech sister device (https://arxiv.org/pdf/2111.08064.pdf)\n",
    "    MB_fit_vals = np.array([4.24201000, \n",
    "                            0.184     ,\n",
    "                            0.03801   ,\n",
    "                            4.05538e5 ]) ## [ F0 [GHz] , Delta [meV] , alpha , Qi0 ]\n",
    "    \n",
    "## How much attenuation is in the lines before the chip\n",
    "line_atten_dB = 56.5\n",
    "\n",
    "## Define the MB parameters\n",
    "alpha = MB_fit_vals[2]\n",
    "Delta = MB_fit_vals[1] ## meV\n",
    "D     = Delta*1e-3     ##  eV\n",
    "\n",
    "## Temperature of the device\n",
    "T = 10.0e-3 ## K\n",
    "\n",
    "## Superconducting volume per resonator\n",
    "V = 3e4 ## um^3\n",
    "\n",
    "## Energy of the incident photons\n",
    "hv = 2.64 ## eV"
   ]
  },
  {
   "cell_type": "markdown",
   "metadata": {},
   "source": [
    "## Get the readout power and frequency"
   ]
  },
  {
   "cell_type": "code",
   "execution_count": 3,
   "metadata": {},
   "outputs": [
    {
     "name": "stdout",
     "output_type": "stream",
     "text": [
      "RF Power at USRP: -25 dBm\n"
     ]
    },
    {
     "name": "stderr",
     "output_type": "stream",
     "text": [
      "/home/nexus-admin/NEXUS_RF/BackendTools/TimestreamHelperFunctions.py:108: H5pyDeprecationWarning: dataset.value has been deprecated. Use dataset[()] instead.\n",
      "  l_dict[kk] = md[k][kk].value\n"
     ]
    }
   ],
   "source": [
    "datapath = '/data/USRP_Laser_Data'\n",
    "series   = \"20230215_101743\"\n",
    "\n",
    "sum_file, dly_file, vna_file, nse_files, led_files = Thf.GetFiles(series, \n",
    "                                                        base_path=datapath,\n",
    "                                                        sep_noise_laser=True,\n",
    "                                                        verbose=False)\n",
    "\n",
    "md, charFs, charZs = Thf.UnpackSummary(sum_file, verbose=False)\n",
    "rf_power = md['power'] ## dBm at USRP\n",
    "f        = charFs[1]   ## MHz\n",
    "print(\"RF Power at USRP:\", rf_power, \"dBm\")"
   ]
  },
  {
   "cell_type": "markdown",
   "metadata": {},
   "source": [
    "## Calculate $\\kappa_2$"
   ]
  },
  {
   "cell_type": "code",
   "execution_count": 4,
   "metadata": {},
   "outputs": [],
   "source": [
    "k2 = MBe.kappa_2(T, f*1e6, D)[0] *1e6*1e6*1e6"
   ]
  },
  {
   "cell_type": "markdown",
   "metadata": {},
   "source": [
    "## Display the parameters"
   ]
  },
  {
   "cell_type": "code",
   "execution_count": 5,
   "metadata": {},
   "outputs": [
    {
     "name": "stdout",
     "output_type": "stream",
     "text": [
      "Readout Power: -25 dBm\n",
      "Readout Freq.: [4241.97901  4241.979857 4241.980704] MHz\n",
      "Device Temp.:  10.0 mK\n",
      "==============================\n",
      "alpha:  3.801 %\n",
      "Delta:  0.184 meV\n",
      "V:      30000.0 um^3\n",
      "k2:     3.9131640517538905e-07 um^3\n"
     ]
    }
   ],
   "source": [
    "print(\"Readout Power:\", rf_power, \"dBm\")\n",
    "print(\"Readout Freq.:\", f       , \"MHz\")\n",
    "print(\"Device Temp.: \", T*1e3   , \"mK\")\n",
    "print(\"==============================\")\n",
    "print(\"alpha: \", alpha*100, \"%\")\n",
    "print(\"Delta: \", Delta    , \"meV\")\n",
    "print(\"V:     \", V        , \"um^3\")\n",
    "print(\"k2:    \", k2       , \"um^3\")"
   ]
  },
  {
   "cell_type": "markdown",
   "metadata": {},
   "source": [
    "## Calculate values for NEXUS"
   ]
  },
  {
   "cell_type": "code",
   "execution_count": 6,
   "metadata": {},
   "outputs": [],
   "source": [
    "## How many resonators per device\n",
    "M_NEXUS    = 1\n",
    "s_df_NEXUS = 4.65e-7 # 1.9e-7"
   ]
  },
  {
   "cell_type": "markdown",
   "metadata": {},
   "source": [
    "### Equation 4 (and 14)"
   ]
  },
  {
   "cell_type": "code",
   "execution_count": 7,
   "metadata": {},
   "outputs": [
    {
     "name": "stdout",
     "output_type": "stream",
     "text": [
      "sigma_LED_df = 3.5568109166930856e-09 x sqrt(N) x eta_ph\n"
     ]
    }
   ],
   "source": [
    "## Calculate photon shot noise prefactor (x sqrt(N) eta_ph)\n",
    "sigma_LED_df = (1/M_NEXUS) * (alpha * k2 / V) * ( hv / (2.*D) )\n",
    "print(\"sigma_LED_df =\",sigma_LED_df,\"x sqrt(N) x eta_ph\")"
   ]
  },
  {
   "cell_type": "markdown",
   "metadata": {},
   "source": [
    "### Equation 8 (and 15)"
   ]
  },
  {
   "cell_type": "code",
   "execution_count": 8,
   "metadata": {},
   "outputs": [
    {
     "name": "stdout",
     "output_type": "stream",
     "text": [
      "n_qp = 62.52547845714343 qp/um^3\n",
      "Energy deposited into resonator:\n",
      "345.1406410834317 [keV] (n_qp * V * D / 1e3)\n"
     ]
    }
   ],
   "source": [
    "## Calculate qp density corresponding to a specific pulse height\n",
    "n_qp       = 2 * s_df_NEXUS / (alpha *k2)\n",
    "print(\"n_qp =\",n_qp,\"qp/um^3\")\n",
    "print(\"Energy deposited into resonator:\")\n",
    "print(n_qp*V*Delta/1e3,\"[keV] (n_qp * V * D / 1e3)\")"
   ]
  },
  {
   "cell_type": "markdown",
   "metadata": {},
   "source": [
    "### Equation 6 (and 16)"
   ]
  },
  {
   "cell_type": "code",
   "execution_count": 9,
   "metadata": {},
   "outputs": [
    {
     "name": "stdout",
     "output_type": "stream",
     "text": [
      "N_gamma = 130.7350913194817 /eta_ph\n"
     ]
    }
   ],
   "source": [
    "## Calculate how many photons correpsond to that qp density (x 1/eta_ph)\n",
    "N_gamma = n_qp * M_NEXUS * V * D / (hv)\n",
    "print(\"N_gamma =\",N_gamma,\"/eta_ph\")"
   ]
  },
  {
   "cell_type": "markdown",
   "metadata": {},
   "source": [
    "### Equation 9 (and 17)"
   ]
  },
  {
   "cell_type": "code",
   "execution_count": 10,
   "metadata": {},
   "outputs": [
    {
     "name": "stdout",
     "output_type": "stream",
     "text": [
      "sigma_LED_df = 4.066837931688802e-08 x sqrt(eta_ph)\n"
     ]
    }
   ],
   "source": [
    "## Calculate photon shot noise prefactor (x sqrt(eta_ph))\n",
    "sigma_LED_df = np.sqrt( (alpha*k2/2.) * s_df_NEXUS * (hv/(M_NEXUS*V*D)) )\n",
    "print(\"sigma_LED_df =\",sigma_LED_df,\"x sqrt(eta_ph)\")"
   ]
  },
  {
   "cell_type": "markdown",
   "metadata": {},
   "source": [
    "### Equation 19"
   ]
  },
  {
   "cell_type": "code",
   "execution_count": 11,
   "metadata": {},
   "outputs": [
    {
     "name": "stdout",
     "output_type": "stream",
     "text": [
      "eta_ph < 130.73509131948168 f^2\n",
      "For f=0.60%, eta_ph < 0.004706463287501341\n",
      "For f=1.05%, eta_ph < 0.014413543817972857\n",
      "For f=3.45%, eta_ph < 0.15560744244301308\n",
      "For f=4.30%, eta_ph < 0.24172918384972159\n"
     ]
    }
   ],
   "source": [
    "## Set a limit on eta_ph (x f^2)\n",
    "limit = np.power( s_df_NEXUS / sigma_LED_df ,2)\n",
    "print(\"eta_ph <\",limit,\"f^2\")\n",
    "print(\"For f=0.60%, eta_ph <\", limit*np.power( (0.60/100.) ,2), )\n",
    "print(\"For f=1.05%, eta_ph <\", limit*np.power( (1.05/100.) ,2), )\n",
    "print(\"For f=3.45%, eta_ph <\", limit*np.power( (3.45/100.) ,2), )\n",
    "print(\"For f=4.30%, eta_ph <\", limit*np.power( (4.30/100.) ,2), )"
   ]
  },
  {
   "cell_type": "code",
   "execution_count": 12,
   "metadata": {},
   "outputs": [
    {
     "data": {
      "text/plain": [
       "9.436655855656896"
      ]
     },
     "execution_count": 12,
     "metadata": {},
     "output_type": "execute_result"
    }
   ],
   "source": [
    "0.6/0.06358184606682717"
   ]
  },
  {
   "cell_type": "code",
   "execution_count": 13,
   "metadata": {},
   "outputs": [
    {
     "data": {
      "text/plain": [
       "2.1571290067714486"
      ]
     },
     "execution_count": 13,
     "metadata": {},
     "output_type": "execute_result"
    }
   ],
   "source": [
    "n_qp * (3.45/100.)"
   ]
  },
  {
   "cell_type": "code",
   "execution_count": 14,
   "metadata": {},
   "outputs": [
    {
     "data": {
      "text/plain": [
       "0.6"
      ]
     },
     "execution_count": 14,
     "metadata": {},
     "output_type": "execute_result"
    }
   ],
   "source": [
    "100 * (0.60/100.)"
   ]
  },
  {
   "cell_type": "code",
   "execution_count": 15,
   "metadata": {},
   "outputs": [
    {
     "data": {
      "text/plain": [
       "17.88854381999832"
      ]
     },
     "execution_count": 15,
     "metadata": {},
     "output_type": "execute_result"
    }
   ],
   "source": [
    "np.sqrt( (100./25.)*(80./1.) )"
   ]
  },
  {
   "cell_type": "code",
   "execution_count": 16,
   "metadata": {},
   "outputs": [
    {
     "data": {
      "text/plain": [
       "11.311403157102477"
      ]
     },
     "execution_count": 16,
     "metadata": {},
     "output_type": "execute_result"
    }
   ],
   "source": [
    "np.sqrt( (100./n_qp)*(80./M_NEXUS) )"
   ]
  },
  {
   "cell_type": "code",
   "execution_count": 17,
   "metadata": {},
   "outputs": [
    {
     "data": {
      "text/plain": [
       "0.225"
      ]
     },
     "execution_count": 17,
     "metadata": {},
     "output_type": "execute_result"
    }
   ],
   "source": [
    "(M_NEXUS/80.)*18"
   ]
  },
  {
   "cell_type": "code",
   "execution_count": 18,
   "metadata": {},
   "outputs": [
    {
     "data": {
      "text/plain": [
       "0.223606797749979"
      ]
     },
     "execution_count": 18,
     "metadata": {},
     "output_type": "execute_result"
    }
   ],
   "source": [
    "(M_NEXUS/80.)*np.sqrt( (100./25.)*(80./1.) )"
   ]
  },
  {
   "cell_type": "code",
   "execution_count": 19,
   "metadata": {},
   "outputs": [
    {
     "data": {
      "text/plain": [
       "0.14139253946378097"
      ]
     },
     "execution_count": 19,
     "metadata": {},
     "output_type": "execute_result"
    }
   ],
   "source": [
    "(M_NEXUS/80.)*np.sqrt( (100./n_qp)*(80./M_NEXUS) )"
   ]
  },
  {
   "cell_type": "markdown",
   "metadata": {},
   "source": [
    "### Equation 19 Again"
   ]
  },
  {
   "cell_type": "code",
   "execution_count": 20,
   "metadata": {},
   "outputs": [
    {
     "name": "stdout",
     "output_type": "stream",
     "text": [
      "eta_ph = 130.73509131948168 f^2\n",
      "For f=0.7785%, eta_ph = 0.007923360359904054\n"
     ]
    }
   ],
   "source": [
    "ratio = np.power( s_df_NEXUS / sigma_LED_df ,2)\n",
    "print(\"eta_ph =\",ratio,\"f^2\")\n",
    "\n",
    "f = 0.007785\n",
    "eta_ph_val = ratio*np.power( f ,2)\n",
    "\n",
    "print(\"For f=\"+str(100.0*f)+\"%, eta_ph =\", eta_ph_val)"
   ]
  },
  {
   "cell_type": "code",
   "execution_count": 21,
   "metadata": {},
   "outputs": [
    {
     "data": {
      "text/plain": [
       "2.503781873729681"
      ]
     },
     "execution_count": 21,
     "metadata": {},
     "output_type": "execute_result"
    }
   ],
   "source": [
    "eta_ph_val * 316 ## eV"
   ]
  },
  {
   "cell_type": "code",
   "execution_count": 22,
   "metadata": {},
   "outputs": [
    {
     "data": {
      "text/plain": [
       "40590.87989723828"
      ]
     },
     "execution_count": 22,
     "metadata": {},
     "output_type": "execute_result"
    }
   ],
   "source": [
    "1/f * 316 ## eV "
   ]
  },
  {
   "cell_type": "code",
   "execution_count": 23,
   "metadata": {},
   "outputs": [
    {
     "data": {
      "text/plain": [
       "0.00850291104694467"
      ]
     },
     "execution_count": 23,
     "metadata": {},
     "output_type": "execute_result"
    }
   ],
   "source": [
    "(n_qp*V*Delta/1e3) / (316/f)"
   ]
  },
  {
   "cell_type": "markdown",
   "metadata": {},
   "source": [
    "### Average Number of Photons"
   ]
  },
  {
   "cell_type": "code",
   "execution_count": 24,
   "metadata": {},
   "outputs": [
    {
     "name": "stdout",
     "output_type": "stream",
     "text": [
      "[43.55988184 35.63854075 27.6563095  19.11014171  9.69933369  1.05574165] keV\n",
      "[16500. 13499. 10476.  7239.  3674.   400.] photons\n"
     ]
    }
   ],
   "source": [
    "mu_amplitdue_dff = np.array([\n",
    "    s_df_NEXUS,    ## 5.0 V\n",
    "    3.8044e-7,     ## 4.5 V\n",
    "    2.9523e-7,     ## 4.0 V\n",
    "    2.0400e-7,     ## 3.5 V\n",
    "    1.0354e-7,     ## 3.0 V\n",
    "    0.1127e-7,     ## 2.5 V\n",
    "])\n",
    "    \n",
    "## Average energy per pulse\n",
    "E = (2/(alpha*k2)) * mu_amplitdue_dff * (V*Delta/1e3) / eta_ph_val\n",
    "print(E/1e3,\"keV\")\n",
    "\n",
    "## Average number of photons\n",
    "print(np.round(E/hv),\"photons\")"
   ]
  },
  {
   "cell_type": "code",
   "execution_count": 25,
   "metadata": {},
   "outputs": [
    {
     "name": "stdout",
     "output_type": "stream",
     "text": [
      "1.3472768623837445e-09 eV^-1\n"
     ]
    }
   ],
   "source": [
    "dxdE = (alpha/2.)*k2 / (V*Delta/1e3)\n",
    "print(dxdE,\"eV^-1\")"
   ]
  },
  {
   "cell_type": "code",
   "execution_count": 26,
   "metadata": {},
   "outputs": [
    {
     "data": {
      "text/plain": [
       "0.2267918363885581"
      ]
     },
     "execution_count": 26,
     "metadata": {},
     "output_type": "execute_result"
    }
   ],
   "source": [
    "eta_ph_val * 316 / (2*Delta/1e3*V)"
   ]
  },
  {
   "cell_type": "code",
   "execution_count": null,
   "metadata": {},
   "outputs": [],
   "source": []
  }
 ],
 "metadata": {
  "kernelspec": {
   "display_name": "Python 3",
   "language": "python",
   "name": "python3"
  },
  "language_info": {
   "codemirror_mode": {
    "name": "ipython",
    "version": 3
   },
   "file_extension": ".py",
   "mimetype": "text/x-python",
   "name": "python",
   "nbconvert_exporter": "python",
   "pygments_lexer": "ipython3",
   "version": "3.8.5"
  }
 },
 "nbformat": 4,
 "nbformat_minor": 4
}
