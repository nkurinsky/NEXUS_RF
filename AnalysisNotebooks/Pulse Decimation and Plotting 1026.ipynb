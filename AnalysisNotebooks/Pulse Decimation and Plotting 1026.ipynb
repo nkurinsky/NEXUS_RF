{
 "cells": [
  {
   "cell_type": "markdown",
   "metadata": {},
   "source": [
    "# LED Data: Oct 26, 2022\n",
    "## Import the libraries"
   ]
  },
  {
   "cell_type": "code",
   "execution_count": 1,
   "metadata": {},
   "outputs": [],
   "source": [
    "import os, sys\n",
    "import h5py\n",
    "import numpy as np\n",
    "import pandas as pd\n",
    "import matplotlib.pyplot as plt\n",
    "\n",
    "sys.path.append('/home/nexus-admin/NEXUS_RF/BackendTools')\n",
    "import TimestreamHelperFunctions as Thf\n",
    "import PulseTriggeringTools as Ptt\n",
    "\n",
    "import PyMKID_USRP_functions as PUf\n",
    "import PyMKID_resolution_functions as Prf\n",
    "\n",
    "%matplotlib notebook"
   ]
  },
  {
   "cell_type": "markdown",
   "metadata": {},
   "source": [
    "### Define some PSD parameters"
   ]
  },
  {
   "cell_type": "code",
   "execution_count": 2,
   "metadata": {},
   "outputs": [],
   "source": [
    "## PSD hi and lo frequency limits\n",
    "chunk_up_to      = 1e2\n",
    "decimate_down_to = 5e4\n",
    "\n",
    "## Transient period at front of timestream\n",
    "blank_fraction = 0.1"
   ]
  },
  {
   "cell_type": "markdown",
   "metadata": {},
   "source": [
    "## Gather the files"
   ]
  },
  {
   "cell_type": "code",
   "execution_count": 3,
   "metadata": {},
   "outputs": [],
   "source": [
    "datapath = '/data/USRP_Laser_Data'\n",
    "series   = \"20221028_151414\"\n",
    "\n",
    "sum_file, dly_file, vna_file, nse_files, led_files = Thf.GetFiles(series, \n",
    "                                                        base_path=datapath,\n",
    "                                                        sep_noise_laser=True,\n",
    "                                                        verbose=False)"
   ]
  },
  {
   "cell_type": "markdown",
   "metadata": {},
   "source": [
    "## Load the summary file"
   ]
  },
  {
   "cell_type": "code",
   "execution_count": 4,
   "metadata": {},
   "outputs": [
    {
     "ename": "OSError",
     "evalue": "Unable to open file (unable to open file: name = 'None', errno = 2, error message = 'No such file or directory', flags = 0, o_flags = 0)",
     "output_type": "error",
     "traceback": [
      "\u001b[0;31m---------------------------------------------------------------------------\u001b[0m",
      "\u001b[0;31mOSError\u001b[0m                                   Traceback (most recent call last)",
      "\u001b[0;32m<ipython-input-4-935028747df4>\u001b[0m in \u001b[0;36m<module>\u001b[0;34m\u001b[0m\n\u001b[0;32m----> 1\u001b[0;31m \u001b[0mmd\u001b[0m\u001b[0;34m,\u001b[0m \u001b[0mcharFs\u001b[0m\u001b[0;34m,\u001b[0m \u001b[0mcharZs\u001b[0m \u001b[0;34m=\u001b[0m \u001b[0mThf\u001b[0m\u001b[0;34m.\u001b[0m\u001b[0mUnpackSummary\u001b[0m\u001b[0;34m(\u001b[0m\u001b[0msum_file\u001b[0m\u001b[0;34m,\u001b[0m \u001b[0mverbose\u001b[0m\u001b[0;34m=\u001b[0m\u001b[0;32mFalse\u001b[0m\u001b[0;34m)\u001b[0m\u001b[0;34m\u001b[0m\u001b[0;34m\u001b[0m\u001b[0m\n\u001b[0m\u001b[1;32m      2\u001b[0m \u001b[0mrf_power\u001b[0m \u001b[0;34m=\u001b[0m \u001b[0mmd\u001b[0m\u001b[0;34m[\u001b[0m\u001b[0;34m'power'\u001b[0m\u001b[0;34m]\u001b[0m\u001b[0;34m\u001b[0m\u001b[0;34m\u001b[0m\u001b[0m\n\u001b[1;32m      3\u001b[0m \u001b[0mprint\u001b[0m\u001b[0;34m(\u001b[0m\u001b[0mcharFs\u001b[0m\u001b[0;34m)\u001b[0m\u001b[0;34m\u001b[0m\u001b[0;34m\u001b[0m\u001b[0m\n\u001b[1;32m      4\u001b[0m \u001b[0mprint\u001b[0m\u001b[0;34m(\u001b[0m\u001b[0mcharZs\u001b[0m\u001b[0;34m)\u001b[0m\u001b[0;34m\u001b[0m\u001b[0;34m\u001b[0m\u001b[0m\n\u001b[1;32m      5\u001b[0m \u001b[0mprint\u001b[0m\u001b[0;34m(\u001b[0m\u001b[0mrf_power\u001b[0m\u001b[0;34m)\u001b[0m\u001b[0;34m\u001b[0m\u001b[0;34m\u001b[0m\u001b[0m\n",
      "\u001b[0;32m~/NEXUS_RF/BackendTools/TimestreamHelperFunctions.py\u001b[0m in \u001b[0;36mUnpackSummary\u001b[0;34m(s_file_path, verbose)\u001b[0m\n\u001b[1;32m     70\u001b[0m \u001b[0;34m\u001b[0m\u001b[0m\n\u001b[1;32m     71\u001b[0m         \u001b[0;31m## Open the summary file in read-only mode\u001b[0m\u001b[0;34m\u001b[0m\u001b[0;34m\u001b[0m\u001b[0;34m\u001b[0m\u001b[0m\n\u001b[0;32m---> 72\u001b[0;31m         \u001b[0mfsum\u001b[0m \u001b[0;34m=\u001b[0m \u001b[0mh5py\u001b[0m\u001b[0;34m.\u001b[0m\u001b[0mFile\u001b[0m\u001b[0;34m(\u001b[0m\u001b[0ms_file_path\u001b[0m\u001b[0;34m,\u001b[0m \u001b[0;34m'r'\u001b[0m\u001b[0;34m)\u001b[0m\u001b[0;34m\u001b[0m\u001b[0;34m\u001b[0m\u001b[0m\n\u001b[0m\u001b[1;32m     73\u001b[0m         \u001b[0;32mif\u001b[0m \u001b[0mverbose\u001b[0m\u001b[0;34m:\u001b[0m\u001b[0;34m\u001b[0m\u001b[0;34m\u001b[0m\u001b[0m\n\u001b[1;32m     74\u001b[0m                 \u001b[0mprint\u001b[0m\u001b[0;34m(\u001b[0m\u001b[0;34m\"File keys:            \"\u001b[0m\u001b[0;34m,\u001b[0m \u001b[0mfsum\u001b[0m\u001b[0;34m.\u001b[0m\u001b[0mkeys\u001b[0m\u001b[0;34m(\u001b[0m\u001b[0;34m)\u001b[0m\u001b[0;34m)\u001b[0m\u001b[0;34m\u001b[0m\u001b[0;34m\u001b[0m\u001b[0m\n",
      "\u001b[0;32m/usr/local/share/anaconda3/lib/python3.8/site-packages/h5py/_hl/files.py\u001b[0m in \u001b[0;36m__init__\u001b[0;34m(self, name, mode, driver, libver, userblock_size, swmr, rdcc_nslots, rdcc_nbytes, rdcc_w0, track_order, **kwds)\u001b[0m\n\u001b[1;32m    404\u001b[0m             \u001b[0;32mwith\u001b[0m \u001b[0mphil\u001b[0m\u001b[0;34m:\u001b[0m\u001b[0;34m\u001b[0m\u001b[0;34m\u001b[0m\u001b[0m\n\u001b[1;32m    405\u001b[0m                 \u001b[0mfapl\u001b[0m \u001b[0;34m=\u001b[0m \u001b[0mmake_fapl\u001b[0m\u001b[0;34m(\u001b[0m\u001b[0mdriver\u001b[0m\u001b[0;34m,\u001b[0m \u001b[0mlibver\u001b[0m\u001b[0;34m,\u001b[0m \u001b[0mrdcc_nslots\u001b[0m\u001b[0;34m,\u001b[0m \u001b[0mrdcc_nbytes\u001b[0m\u001b[0;34m,\u001b[0m \u001b[0mrdcc_w0\u001b[0m\u001b[0;34m,\u001b[0m \u001b[0;34m**\u001b[0m\u001b[0mkwds\u001b[0m\u001b[0;34m)\u001b[0m\u001b[0;34m\u001b[0m\u001b[0;34m\u001b[0m\u001b[0m\n\u001b[0;32m--> 406\u001b[0;31m                 fid = make_fid(name, mode, userblock_size,\n\u001b[0m\u001b[1;32m    407\u001b[0m                                \u001b[0mfapl\u001b[0m\u001b[0;34m,\u001b[0m \u001b[0mfcpl\u001b[0m\u001b[0;34m=\u001b[0m\u001b[0mmake_fcpl\u001b[0m\u001b[0;34m(\u001b[0m\u001b[0mtrack_order\u001b[0m\u001b[0;34m=\u001b[0m\u001b[0mtrack_order\u001b[0m\u001b[0;34m)\u001b[0m\u001b[0;34m,\u001b[0m\u001b[0;34m\u001b[0m\u001b[0;34m\u001b[0m\u001b[0m\n\u001b[1;32m    408\u001b[0m                                swmr=swmr)\n",
      "\u001b[0;32m/usr/local/share/anaconda3/lib/python3.8/site-packages/h5py/_hl/files.py\u001b[0m in \u001b[0;36mmake_fid\u001b[0;34m(name, mode, userblock_size, fapl, fcpl, swmr)\u001b[0m\n\u001b[1;32m    171\u001b[0m         \u001b[0;32mif\u001b[0m \u001b[0mswmr\u001b[0m \u001b[0;32mand\u001b[0m \u001b[0mswmr_support\u001b[0m\u001b[0;34m:\u001b[0m\u001b[0;34m\u001b[0m\u001b[0;34m\u001b[0m\u001b[0m\n\u001b[1;32m    172\u001b[0m             \u001b[0mflags\u001b[0m \u001b[0;34m|=\u001b[0m \u001b[0mh5f\u001b[0m\u001b[0;34m.\u001b[0m\u001b[0mACC_SWMR_READ\u001b[0m\u001b[0;34m\u001b[0m\u001b[0;34m\u001b[0m\u001b[0m\n\u001b[0;32m--> 173\u001b[0;31m         \u001b[0mfid\u001b[0m \u001b[0;34m=\u001b[0m \u001b[0mh5f\u001b[0m\u001b[0;34m.\u001b[0m\u001b[0mopen\u001b[0m\u001b[0;34m(\u001b[0m\u001b[0mname\u001b[0m\u001b[0;34m,\u001b[0m \u001b[0mflags\u001b[0m\u001b[0;34m,\u001b[0m \u001b[0mfapl\u001b[0m\u001b[0;34m=\u001b[0m\u001b[0mfapl\u001b[0m\u001b[0;34m)\u001b[0m\u001b[0;34m\u001b[0m\u001b[0;34m\u001b[0m\u001b[0m\n\u001b[0m\u001b[1;32m    174\u001b[0m     \u001b[0;32melif\u001b[0m \u001b[0mmode\u001b[0m \u001b[0;34m==\u001b[0m \u001b[0;34m'r+'\u001b[0m\u001b[0;34m:\u001b[0m\u001b[0;34m\u001b[0m\u001b[0;34m\u001b[0m\u001b[0m\n\u001b[1;32m    175\u001b[0m         \u001b[0mfid\u001b[0m \u001b[0;34m=\u001b[0m \u001b[0mh5f\u001b[0m\u001b[0;34m.\u001b[0m\u001b[0mopen\u001b[0m\u001b[0;34m(\u001b[0m\u001b[0mname\u001b[0m\u001b[0;34m,\u001b[0m \u001b[0mh5f\u001b[0m\u001b[0;34m.\u001b[0m\u001b[0mACC_RDWR\u001b[0m\u001b[0;34m,\u001b[0m \u001b[0mfapl\u001b[0m\u001b[0;34m=\u001b[0m\u001b[0mfapl\u001b[0m\u001b[0;34m)\u001b[0m\u001b[0;34m\u001b[0m\u001b[0;34m\u001b[0m\u001b[0m\n",
      "\u001b[0;32mh5py/_objects.pyx\u001b[0m in \u001b[0;36mh5py._objects.with_phil.wrapper\u001b[0;34m()\u001b[0m\n",
      "\u001b[0;32mh5py/_objects.pyx\u001b[0m in \u001b[0;36mh5py._objects.with_phil.wrapper\u001b[0;34m()\u001b[0m\n",
      "\u001b[0;32mh5py/h5f.pyx\u001b[0m in \u001b[0;36mh5py.h5f.open\u001b[0;34m()\u001b[0m\n",
      "\u001b[0;31mOSError\u001b[0m: Unable to open file (unable to open file: name = 'None', errno = 2, error message = 'No such file or directory', flags = 0, o_flags = 0)"
     ]
    }
   ],
   "source": [
    "md, charFs, charZs = Thf.UnpackSummary(sum_file, verbose=False)\n",
    "rf_power = md['power']\n",
    "print(charFs)\n",
    "print(charZs)\n",
    "print(rf_power)"
   ]
  },
  {
   "cell_type": "markdown",
   "metadata": {},
   "source": [
    "### LED voltages\n",
    "Determine how many LED timestream files there are and get an array of the LED voltages used for each."
   ]
  },
  {
   "cell_type": "code",
   "execution_count": null,
   "metadata": {},
   "outputs": [],
   "source": [
    "voltages = np.array([])\n",
    "\n",
    "for k in md.keys():\n",
    "    if 'LaserScan_' in k:\n",
    "        voltages = np.append(voltages, float(int(1000*md[k]['LEDvoltage'][0]))/1000.)\n",
    "\n",
    "voltages = np.sort(voltages)\n",
    "n_volts  = len(voltages)\n",
    "n_runs   = len(led_files)\n",
    "print(n_volts, n_runs, \"<-- These should be the same\")\n",
    "# print(voltages)"
   ]
  },
  {
   "cell_type": "markdown",
   "metadata": {},
   "source": [
    "### Extract the pulse profile\n",
    "This assumes that each laser timestream is acquired with the same AWG settings."
   ]
  },
  {
   "cell_type": "code",
   "execution_count": null,
   "metadata": {},
   "outputs": [],
   "source": [
    "LED_rate_Hz = 0 # 100.0\n",
    "lapse_sec   = 0 # 10.0\n",
    "\n",
    "## Extract the pulse settings, assuming they're all the same\n",
    "for k in md.keys():\n",
    "    if 'LaserScan_' in k:\n",
    "        LED_rate_Hz = md[k]['LEDfreqHz'][0]\n",
    "        lapse_sec   = md[k]['duration'][0]\n",
    "        break\n",
    "LED_rate_Hz = LED_rate_Hz   #*5\n",
    "print(\"Pulse f:\",LED_rate_Hz,\"Hz\")\n",
    "print(\"Duration:\",lapse_sec,\"sec\")\n",
    "\n",
    "total_pulses = LED_rate_Hz*lapse_sec\n",
    "\n",
    "time_btw_pulse = 1./LED_rate_Hz\n",
    "num_pulses = int(total_pulses * (1 - blank_fraction))\n",
    "print(\"Total pulse windows:\",total_pulses)\n",
    "print(\"Time between pulse arrival:\",time_btw_pulse,\"sec\")\n",
    "print(\"Number of windows to look at:\",num_pulses)"
   ]
  },
  {
   "cell_type": "markdown",
   "metadata": {},
   "source": [
    "## Create a dataframe of files of interest"
   ]
  },
  {
   "cell_type": "code",
   "execution_count": null,
   "metadata": {},
   "outputs": [],
   "source": [
    "## Define the runs of interest\n",
    "run_dict = {\"path\": np.sort(led_files) , \n",
    "            \"file\": [\"-\".join(f.split(\"/\")[-1].split(\".\")[0:-1]) for f in np.sort(led_files)],\n",
    "            \"Vled\": voltages }\n",
    "n_runs = len(run_dict[\"path\"])\n",
    "run_df = pd.DataFrame(run_dict)\n",
    "print(\"Total runs:\",n_runs)"
   ]
  },
  {
   "cell_type": "code",
   "execution_count": null,
   "metadata": {},
   "outputs": [],
   "source": [
    "run_df"
   ]
  },
  {
   "cell_type": "code",
   "execution_count": null,
   "metadata": {},
   "outputs": [],
   "source": [
    "## Fill these columns in later\n",
    "run_df[\"pls_sec_s\"] = [0.0] *n_runs\n",
    "run_df[\"N_pls_fnd\"] = [1000]*n_runs # np.zeros(n_runs, dtype=type(None))\n",
    "run_df[\"pls_sec_f\"] = [10.0]*n_runs # np.zeros(n_runs, dtype=type(None))"
   ]
  },
  {
   "cell_type": "code",
   "execution_count": null,
   "metadata": {},
   "outputs": [],
   "source": [
    "## Create an empty column to hold a delta in seconds\n",
    "run_df[\"delta_sec\"] = [None] *n_runs\n",
    "\n",
    "## Store some known values\n",
    "_ = 0\n",
    "run_df[\"delta_sec\"].iloc[_] = 0.00\n",
    "\n",
    "## Show the dataframe\n",
    "run_df"
   ]
  },
  {
   "cell_type": "markdown",
   "metadata": {},
   "source": [
    "## Pick a specific LED voltage"
   ]
  },
  {
   "cell_type": "code",
   "execution_count": null,
   "metadata": {},
   "outputs": [],
   "source": [
    "idx  = 0\n",
    "file = run_df[\"path\"].iloc[idx]\n",
    "Vled = run_df[\"Vled\"].iloc[idx]\n",
    "print(series, \":\", Vled, \"V\")"
   ]
  },
  {
   "cell_type": "markdown",
   "metadata": {},
   "source": [
    "### Clean and make PSDs of the pulsed timestream"
   ]
  },
  {
   "cell_type": "code",
   "execution_count": null,
   "metadata": {
    "scrolled": false
   },
   "outputs": [],
   "source": [
    "powers_, PSDs_, res_, timestreams_ = Thf.CleanPSDs(\n",
    "    file, \n",
    "    vna_file, \n",
    "    PSD_lo_f=chunk_up_to, \n",
    "    PSD_hi_f=decimate_down_to, \n",
    "    f_transient=blank_fraction, \n",
    "    charFs=charFs, \n",
    "    charZs=charZs)"
   ]
  },
  {
   "cell_type": "markdown",
   "metadata": {},
   "source": [
    "### Pull some pulse finding parameters"
   ]
  },
  {
   "cell_type": "code",
   "execution_count": null,
   "metadata": {},
   "outputs": [],
   "source": [
    "pulse_start_sec  = run_df[\"pls_sec_s\"].iloc[idx] # 0.0 # \n",
    "N_pulses_to_find = run_df[\"N_pls_fnd\"].iloc[idx] # None# \n",
    "pulse_end_sec    = run_df[\"pls_sec_f\"].iloc[idx] # 10  # "
   ]
  },
  {
   "cell_type": "markdown",
   "metadata": {},
   "source": [
    "### Perform extra decimation"
   ]
  },
  {
   "cell_type": "code",
   "execution_count": null,
   "metadata": {},
   "outputs": [],
   "source": [
    "extra_dec = 100"
   ]
  },
  {
   "cell_type": "code",
   "execution_count": null,
   "metadata": {},
   "outputs": [],
   "source": [
    "data_noise, data_info = PUf.unavg_noi(file)\n",
    "time = data_info['time']\n",
    "time_correction = data_info['sampling period']\n",
    "\n",
    "data_noise = Prf.average_decimate(data_noise, decimation=extra_dec)\n",
    "## data_noise is complex values of S21\n",
    "## can take Re() and Im() to get I, Q\n",
    "## can take abs() and angle() to get magnitude and phase\n",
    "time_correction *= extra_dec\n",
    "time = time[::extra_dec]"
   ]
  },
  {
   "cell_type": "markdown",
   "metadata": {},
   "source": [
    "### Get a dictionary of the data in this file"
   ]
  },
  {
   "cell_type": "code",
   "execution_count": null,
   "metadata": {},
   "outputs": [],
   "source": [
    "res = Ptt.readDataFile(series, base_path='/data/USRP_Laser_Data')"
   ]
  },
  {
   "cell_type": "markdown",
   "metadata": {},
   "source": [
    "### Plot full, decimated, and focused timestream"
   ]
  },
  {
   "cell_type": "code",
   "execution_count": null,
   "metadata": {
    "scrolled": false
   },
   "outputs": [],
   "source": [
    "fig = plt.figure()\n",
    "ax0 = fig.gca()\n",
    "\n",
    "ax0.plot(res[\"Time\"],res[\"Phase\"])\n",
    "\n",
    "xavg, yavg = Ptt.movavg_xy(res[\"Time\"],res[\"Phase\"],side_pts=extra_dec)\n",
    "ax0.plot(xavg, yavg)\n",
    "\n",
    "\n",
    "ax0.plot(time[(time>pulse_start_sec)*(time<pulse_end_sec)],\n",
    "         np.angle(data_noise[(time>pulse_start_sec)*(time<pulse_end_sec),0]))"
   ]
  },
  {
   "cell_type": "markdown",
   "metadata": {},
   "source": [
    "### Show the first 10 pulses"
   ]
  },
  {
   "cell_type": "code",
   "execution_count": null,
   "metadata": {},
   "outputs": [],
   "source": [
    "fig = plt.figure()\n",
    "ax0 = fig.gca()\n",
    "\n",
    "## Find the first ten pulses\n",
    "window = 10 * (1/LED_rate_Hz)\n",
    "\n",
    "ax0.plot(time[(time>pulse_start_sec)*(time<pulse_start_sec+window)],\n",
    "         np.angle(data_noise[(time>pulse_start_sec)*(time<pulse_start_sec+window),0]))\n",
    "\n",
    "ax0.set_xlabel(\"Time (sec)\")\n",
    "ax0.set_ylabel(\"Phase (rad)\")\n",
    "ax0.set_title(\"First 10 pulses in timestream\")"
   ]
  },
  {
   "cell_type": "markdown",
   "metadata": {},
   "source": [
    "### Show the first pulse window"
   ]
  },
  {
   "cell_type": "code",
   "execution_count": null,
   "metadata": {},
   "outputs": [],
   "source": [
    "## Find the first ten pulses\n",
    "window = (1/LED_rate_Hz)\n",
    "\n",
    "## Window limits\n",
    "s = pulse_start_sec\n",
    "e = s + window\n",
    "\n",
    "fig = plt.figure()\n",
    "ax0 = fig.gca()\n",
    "ax0.plot(               time[(time>s)*(time<e)  ],\n",
    "         np.angle(data_noise[(time>s)*(time<e),0]))\n",
    "\n",
    "ax0.set_xlabel(\"Time (sec)\")\n",
    "ax0.set_ylabel(\"Phase (rad)\")\n",
    "ax0.set_title(\"First Pulse in timestream - No Shift\")"
   ]
  },
  {
   "cell_type": "markdown",
   "metadata": {},
   "source": [
    "## Algorithm to determine rising edge of first pulse"
   ]
  },
  {
   "cell_type": "code",
   "execution_count": null,
   "metadata": {},
   "outputs": [],
   "source": [
    "## We want to look at the first window, offset a little bit\n",
    "## in case we are partially through the first pulse's rising edge\n",
    "\n",
    "offset_sec = 0.00\n",
    "delta_sec  = 0.00\n",
    "\n",
    "## Window limits\n",
    "s = offset_sec\n",
    "e = s + window\n",
    "\n",
    "## Pull the data in this region\n",
    "xvals =                time[(time>s)*(time<e)  ]\n",
    "yvals = np.angle(data_noise[(time>s)*(time<e),0])\n",
    "\n",
    "## Calculate something proportional to slope\n",
    "yslp  = yvals[1:]-yvals[:-1]\n",
    "\n",
    "smax  = np.max(yslp)\n",
    "xmax  = xvals[1:][np.argmax(yslp)]\n",
    "ymax  = yvals[1:][np.argmax(yslp)]\n",
    "\n",
    "delta_sec = 0.00 # xmax\n",
    "print(\"Rising edge found at\",delta_sec+offset_sec,\"sec\")\n",
    "print(\"Use a window starting at\",delta_sec,\"sec\")\n",
    "\n",
    "fig = plt.figure()\n",
    "ax0 = fig.gca()\n",
    "ax0.plot(xvals,yvals)\n",
    "ax0.set_xlabel(\"Time (sec)\")\n",
    "ax0.set_ylabel(\"Phase (rad)\")\n",
    "ax0.scatter(xmax,ymax,c='r',marker='o')\n",
    "\n",
    "fig = plt.figure()\n",
    "ax0 = fig.gca()\n",
    "ax0.plot(xvals[1:],yslp)\n",
    "ax0.set_xlabel(\"Time (sec)\")\n",
    "ax0.set_ylabel(\"Phase (rad)\")\n",
    "ax0.scatter(xmax,smax,c='r',marker='o')"
   ]
  },
  {
   "cell_type": "markdown",
   "metadata": {},
   "source": [
    "### Show the second window identified by the above algorithm"
   ]
  },
  {
   "cell_type": "code",
   "execution_count": null,
   "metadata": {},
   "outputs": [],
   "source": [
    "## Window limits\n",
    "s = pulse_start_sec + delta_sec\n",
    "e = s + window\n",
    "\n",
    "fig = plt.figure()\n",
    "ax0 = fig.gca()\n",
    "ax0.plot(               time[(time>s+e)*(time<2*e)  ],\n",
    "         np.angle(data_noise[(time>s+e)*(time<2*e),0]))\n",
    "\n",
    "ax0.set_xlabel(\"Time (sec)\")\n",
    "ax0.set_ylabel(\"Phase (rad)\")\n",
    "ax0.set_title(\"Second Pulse in timestream - Shifted \"+str(delta_sec)+\" seconds\")"
   ]
  },
  {
   "cell_type": "code",
   "execution_count": null,
   "metadata": {},
   "outputs": [],
   "source": [
    "start_search_sec = window + delta_sec"
   ]
  },
  {
   "cell_type": "code",
   "execution_count": null,
   "metadata": {},
   "outputs": [],
   "source": [
    "## Find some pulses\n",
    "w_s = 124 * window\n",
    "w_e = 134 * window\n",
    "\n",
    "## Window limits\n",
    "s = pulse_start_sec + delta_sec + w_s\n",
    "e = s + (w_e-w_s)\n",
    "\n",
    "## Pull the data from the window\n",
    "datax =                time[(time>s)*(time<e)  ]\n",
    "datay = np.angle(data_noise[(time>s)*(time<e),0])\n",
    "\n",
    "## Find the midpoint\n",
    "mn = np.min(datay)\n",
    "mx = np.max(datay)\n",
    "md = (mx+mn)/2.\n",
    "\n",
    "## Find every time the wf crosses the midpoint with a positive slope\n",
    "cx = datax[1:]\n",
    "cy = datay[1:]-datay[:-1]\n",
    "\n",
    "cy = cy - 10.*np.mean(np.abs(cy)) ## Probably need to tune the N means to cut\n",
    "cy[cy<0] = np.nan\n",
    "re = cx[cy>0]\n",
    "print(\"N rising edges:\", len(re))\n",
    "\n",
    "## Get the time difference between each subsequent pulse\n",
    "print(\"Delta t=\",re[1:]-re[:-1])\n",
    "\n",
    "## Draw the plot\n",
    "fig = plt.figure()\n",
    "ax0 = fig.gca()\n",
    "\n",
    "ax0.plot(datax,datay)\n",
    "ax0.scatter(re,md*np.ones(len(re)),c='r')\n",
    "ax0.axhline(y=md,color='k',ls='--')\n",
    "\n",
    "ax0.set_xlabel(\"Time (sec)\")\n",
    "ax0.set_ylabel(\"Phase (rad)\")\n",
    "ax0.set_title(\"Pulses 25 to 30\")"
   ]
  },
  {
   "cell_type": "code",
   "execution_count": null,
   "metadata": {
    "scrolled": false
   },
   "outputs": [],
   "source": [
    "plot_vs_time = True\n",
    "avg, npulses, bl, win = Ptt.StackPulses(np.angle(data_noise[:,0])*180/np.pi, \n",
    "                                        pulse_start_sec,\n",
    "                                        pulse_rate_Hz = LED_rate_Hz,\n",
    "                                        win_fac       = 1.00, \n",
    "                                        sample_rate   = 1e6/extra_dec,\n",
    "                                        Npulses       = None, \n",
    "                                        bl_subtract   = False, \n",
    "                                        show_plots    = True, \n",
    "                                        plot_time     = plot_vs_time)\n",
    "plt.gca().set_title(\"Phase Response: \"+str(npulses)+\" pulses\")\n",
    "plt.gca().set_xlabel(r\"Decimated sample index\")\n",
    "if plot_vs_time:\n",
    "    plt.gca().set_xlabel(r\"Time [sec]\")\n",
    "plt.gca().set_ylabel(r\"$\\mathrm{arg}(S_{21})$ [deg]\")"
   ]
  },
  {
   "cell_type": "code",
   "execution_count": null,
   "metadata": {},
   "outputs": [],
   "source": [
    "plot_vs_time = True\n",
    "avg, npulses, bl, win = Ptt.StackPulses(np.abs(data_noise[:,0]), pulse_start_sec,\n",
    "                                        win_fac=0.95, Npulses=N_pulses_to_find, sample_rate=1e6/extra_dec,\n",
    "                                        bl_subtract=False, show_plots=True, plot_time=plot_vs_time)\n",
    "plt.gca().set_title(\"Magnitude Response: \"+str(npulses)+\" pulses\")\n",
    "plt.gca().set_xlabel(r\"Decimated sample index\")\n",
    "if plot_vs_time:\n",
    "    plt.gca().set_xlabel(r\"Time [sec]\")\n",
    "plt.gca().set_ylabel(r\"$|S_{21}|$ [dBm]\")"
   ]
  },
  {
   "cell_type": "code",
   "execution_count": null,
   "metadata": {},
   "outputs": [],
   "source": [
    "pidx = int(npulses*np.random.rand())\n",
    "Ptt.PlotPulse(data_noise[:,0], pulse_start_sec, p_index=pidx, fig_obj=None,\n",
    "              pulse_rate_Hz=pulse_rate_Hz, win_fac=0.75, sample_rate=1e6/extra_dec,\n",
    "              baseline=None, complx=True)\n",
    "ax0 = plt.gca()\n",
    "ax0.set_title(\"Pulse #\"+str(pidx))\n",
    "ax0.set_xlabel(\"Real\")\n",
    "ax0.set_ylabel(\"Imaginary\")\n",
    "ax0.set_aspect('equal', 'box')"
   ]
  },
  {
   "cell_type": "code",
   "execution_count": null,
   "metadata": {},
   "outputs": [],
   "source": [
    "VNA_f, VNA_z = PUf.read_vna(vna_file)"
   ]
  },
  {
   "cell_type": "code",
   "execution_count": null,
   "metadata": {},
   "outputs": [],
   "source": [
    "fig = plt.figure()\n",
    "ax0 = plt.gca()\n",
    "for i in np.arange(npulses):\n",
    "    Ptt.PlotPulse(data_noise[:,0], pulse_start_sec, p_index=i, fig_obj=fig,\n",
    "                  pulse_rate_Hz=pulse_rate_Hz, win_fac=0.75, sample_rate=1e6/extra_dec,\n",
    "                  baseline=None, complx=True)\n",
    "ax0.set_title(\"Total Pulses: \"+str(npulses))\n",
    "ax0.set_xlabel(\"Real\")\n",
    "ax0.set_ylabel(\"Imaginary\")\n",
    "ax0.set_aspect('equal', 'box')"
   ]
  },
  {
   "cell_type": "code",
   "execution_count": null,
   "metadata": {},
   "outputs": [],
   "source": [
    "fig = plt.figure()\n",
    "ax0 = plt.gca()\n",
    "for i in np.arange(npulses):\n",
    "    Ptt.PlotPulse(data_noise[:,0], pulse_start_sec, p_index=i, fig_obj=fig,\n",
    "                  pulse_rate_Hz=pulse_rate_Hz, win_fac=0.75, sample_rate=1e6/extra_dec,\n",
    "                  baseline=None, complx=True)\n",
    "ax0.set_title(\"Total Pulses: \"+str(npulses))\n",
    "ax0.set_xlabel(\"Real\")\n",
    "ax0.set_ylabel(\"Imaginary\")\n",
    "ax0.set_aspect('equal', 'box')\n",
    "\n",
    "\n",
    "xlims = ax0.get_xlim()\n",
    "ylims = ax0.get_ylim()\n",
    "ax0.plot(np.real(VNA_z[(VNA_f>4.24205e3)*(VNA_f<4.24235e3)]),\n",
    "         np.imag(VNA_z[(VNA_f>4.24205e3)*(VNA_f<4.24235e3)]),\n",
    "         \"k-\",marker='o')\n",
    "ax0.set_xlim(xlims)\n",
    "ax0.set_ylim(ylims)"
   ]
  },
  {
   "cell_type": "code",
   "execution_count": null,
   "metadata": {
    "scrolled": false
   },
   "outputs": [],
   "source": [
    "fig = plt.figure()\n",
    "ax0 = plt.gca()\n",
    "for i in np.arange(npulses):\n",
    "    Ptt.PlotPulse(data_noise[:,0], pulse_start_sec, p_index=i, fig_obj=fig,\n",
    "                  pulse_rate_Hz=pulse_rate_Hz, win_fac=0.75, sample_rate=1e6/extra_dec,\n",
    "                  baseline=None, complx=True)\n",
    "ax0.set_title(\"Total Pulses: \"+str(npulses))\n",
    "ax0.set_xlabel(\"Real\")\n",
    "ax0.set_ylabel(\"Imaginary\")\n",
    "ax0.set_aspect('equal', 'box')\n",
    "\n",
    "ax0.plot(np.real(VNA_z[(VNA_f>4.24205e3)*(VNA_f<4.24235e3)]),\n",
    "         np.imag(VNA_z[(VNA_f>4.24205e3)*(VNA_f<4.24235e3)]),\n",
    "         \"k-\",marker='o')"
   ]
  },
  {
   "cell_type": "code",
   "execution_count": null,
   "metadata": {},
   "outputs": [],
   "source": [
    "## Size of signal\n",
    "z_roi = VNA_z[(VNA_f>4.24205e3)*(VNA_f<4.24235e3)]\n",
    "i_min = np.argmin(np.real(z_roi))\n",
    "i_max = np.argmax(np.real(z_roi))\n",
    "rad   = np.abs(z_roi[i_max]-z_roi[i_min])\n",
    "print(rad)"
   ]
  },
  {
   "cell_type": "code",
   "execution_count": null,
   "metadata": {},
   "outputs": [],
   "source": [
    "## Size of noise\n",
    "noise = 0.0003247\n",
    "snr   = rad/noise\n",
    "print(\"SNR ~\",snr)"
   ]
  },
  {
   "cell_type": "code",
   "execution_count": null,
   "metadata": {},
   "outputs": [],
   "source": [
    "dec_fac = 100\n",
    "\n",
    "## Create a figure to house the average phase responses\n",
    "fig = plt.figure()\n",
    "ax0 = fig.gca()\n",
    "\n",
    "ax0.set_title(\"Phase Response\")\n",
    "ax0.set_xlabel(\"Time [ms]\")\n",
    "ax0.set_ylabel(r\"$\\mathrm{arg}(S_{21})$ [rad]\")\n",
    "\n",
    "## Now loop over the first three files and extract the average phase response \n",
    "for j in [0,1,2]:\n",
    "    series = run_df[\"series\"].iloc[j]\n",
    "    Vled   = run_df[\"Vled\"].iloc[j]\n",
    "    \n",
    "    ## Get the timestream and decimate it\n",
    "    sum_file, dly_file, vna_file, tone_files = Thf.GetFiles(series)\n",
    "\n",
    "    data_noise, data_info = PUf.unavg_noi(tone_files[0])\n",
    "    data_noise = Prf.average_decimate(data_noise, decimation=dec_fac)\n",
    "\n",
    "    avg, npulses, bl, win = Ptt.StackPulses(np.angle(data_noise[:,0]), run_df[\"pls_sec_s\"].iloc[j],\n",
    "                                        win_fac=0.75, Npulses=run_df[\"N_pls_fnd\"].iloc[j], sample_rate=1e6/extra_dec,\n",
    "                                        bl_subtract=True, show_plots=False, plot_time=True)\n",
    "    \n",
    "    time_range = np.arange(len(avg))/(1e6/extra_dec)\n",
    "    time_range = time_range - time_range[np.argmax(avg[1:]-avg[:-1])]\n",
    "    \n",
    "    ax0.plot(time_range*1e3,avg,linestyle=\"--\",marker=\"o\",label=series+\" - Vled = \"+str(Vled)+\"V\")\n",
    "    \n",
    "ax0.legend(loc='best')"
   ]
  },
  {
   "cell_type": "code",
   "execution_count": null,
   "metadata": {},
   "outputs": [],
   "source": [
    "dec_fac = 100\n",
    "\n",
    "## Create a figure to house the average phase responses\n",
    "fig = plt.figure()\n",
    "ax0 = fig.gca()\n",
    "\n",
    "ax0.set_title(\"Magnitude Response\")\n",
    "ax0.set_xlabel(\"Time [ms]\")\n",
    "ax0.set_ylabel(r\"$|S_{21}|$ [dBm]\")\n",
    "\n",
    "## Now loop over the first three files and extract the average phase response \n",
    "for j in [0,1,2]:\n",
    "    series = run_df[\"series\"].iloc[j]\n",
    "    Vled   = run_df[\"Vled\"].iloc[j]\n",
    "    \n",
    "    ## Get the timestream and decimate it\n",
    "    sum_file, dly_file, vna_file, tone_files = Thf.GetFiles(series)\n",
    "\n",
    "    data_noise, data_info = PUf.unavg_noi(tone_files[0])\n",
    "    data_noise = Prf.average_decimate(data_noise, decimation=dec_fac)\n",
    "\n",
    "    avg, npulses, bl, win = Ptt.StackPulses(np.abs(data_noise[:,0]), run_df[\"pls_sec_s\"].iloc[j],\n",
    "                                        win_fac=0.75, Npulses=run_df[\"N_pls_fnd\"].iloc[j], sample_rate=1e6/extra_dec,\n",
    "                                        bl_subtract=True, show_plots=False, plot_time=True)\n",
    "    \n",
    "    time_range = np.arange(len(avg))/(1e6/extra_dec)\n",
    "    time_range = time_range - time_range[np.argmax(avg[1:]-avg[:-1])]\n",
    "    \n",
    "    ax0.plot(time_range*1e3,avg,linestyle=\"--\",marker=\"o\",label=series+\" - Vled = \"+str(Vled)+\"V\")\n",
    "    \n",
    "ax0.legend(loc='best')"
   ]
  },
  {
   "cell_type": "code",
   "execution_count": null,
   "metadata": {},
   "outputs": [],
   "source": []
  }
 ],
 "metadata": {
  "kernelspec": {
   "display_name": "Python 3",
   "language": "python",
   "name": "python3"
  },
  "language_info": {
   "codemirror_mode": {
    "name": "ipython",
    "version": 3
   },
   "file_extension": ".py",
   "mimetype": "text/x-python",
   "name": "python",
   "nbconvert_exporter": "python",
   "pygments_lexer": "ipython3",
   "version": "3.8.5"
  }
 },
 "nbformat": 4,
 "nbformat_minor": 4
}
