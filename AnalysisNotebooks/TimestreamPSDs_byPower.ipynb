{
 "cells": [
  {
   "cell_type": "code",
   "execution_count": 1,
   "metadata": {},
   "outputs": [],
   "source": [
    "import sys, os, glob, h5py\n",
    "import time, datetime\n",
    "import numpy as np\n",
    "import matplotlib.pyplot as plt\n",
    "import pandas as pd"
   ]
  },
  {
   "cell_type": "code",
   "execution_count": 2,
   "metadata": {},
   "outputs": [],
   "source": [
    "## Load the modules\n",
    "sys.path.insert(1, \"/home/nexus-admin/NEXUS_RF/BackendTools\")\n",
    "import PyMKID_USRP_functions as PUf\n",
    "import PyMKID_resolution_functions as Prf\n",
    "import TimestreamHelperFunctions as Thf"
   ]
  },
  {
   "cell_type": "code",
   "execution_count": 3,
   "metadata": {},
   "outputs": [],
   "source": [
    "## MB Results come from fitting a temperature scan at a specified RF power\n",
    "MB_fit_vals = np.array([4.24216+9.75e-6, \n",
    "                        0.177  ,\n",
    "                        0.0125 ,\n",
    "                        4.1e7  ]) ## [ F0 [GHz] , Delta , alpha , Qi0 ]"
   ]
  },
  {
   "cell_type": "code",
   "execution_count": null,
   "metadata": {},
   "outputs": [],
   "source": [
    "## 6/07 Al Runs\n",
    "series_list = np.array([\n",
    "#     \"20220607_095300\" , \n",
    "    \"20220607_100452\" , \n",
    "    \"20220607_100858\" , \n",
    "    \"20220607_101139\" , \n",
    "    \"20220607_102016\" , \n",
    "    \"20220607_102257\" , \n",
    "    \"20220607_102619\" , \n",
    "    \"20220607_103040\" , \n",
    "    \"20220607_103312\" , \n",
    "    \"20220607_103536\" , \n",
    "    \"20220607_103820\" , \n",
    "    \"20220607_104103\" , \n",
    "    \"20220607_104418\" , \n",
    "    \"20220607_104739\" , \n",
    "#     \"20220607_105011\" \n",
    "])\n",
    "\n",
    "P_min = -70 ; P_max = 0 ; P_step = 5\n",
    "powers_list = np.arange(start=P_min, stop=P_max+P_step, step=P_step)[1:-1]"
   ]
  },
  {
   "cell_type": "code",
   "execution_count": null,
   "metadata": {},
   "outputs": [],
   "source": [
    "## 6/19 Al Runs\n",
    "series_list = np.array([\n",
    "    \"20220619_155709\",\n",
    "    \"20220619_153053\",\n",
    "    \"20220619_152817\",\n",
    "    \"20220619_152542\",\n",
    "    \"20220619_152210\",\n",
    "    \"20220619_151914\",\n",
    "#     \"20220619_151634\",\n",
    "#     \"20220619_151405\",\n",
    "#     \"20220619_150933\",\n",
    "#     \"20220619_150645\",\n",
    "#     \"20220619_150415\",\n",
    "#     \"20220619_150117\",\n",
    "#     \"20220619_145802\",\n",
    "#     \"20220619_145536\",\n",
    "#     \"20220619_145204\"\n",
    "])\n",
    "\n",
    "P_min = -70 ; P_max = 0 ; P_step = 5\n",
    "powers_list = np.arange(start=P_max, stop=P_min-P_step, step=-P_step)[:6]#[3:-1]"
   ]
  },
  {
   "cell_type": "code",
   "execution_count": null,
   "metadata": {},
   "outputs": [],
   "source": [
    "## 6/19 Nb7 Runs\n",
    "series_list = np.array([\n",
    "#     \"20220619_171322\",\n",
    "#     \"20220619_171119\",\n",
    "#     \"20220619_170714\",\n",
    "    \"20220619_170214\",\n",
    "    \"20220619_170017\",\n",
    "    \"20220619_165127\",\n",
    "    \"20220619_164921\",\n",
    "    \"20220619_164721\",\n",
    "    \"20220619_164257\",\n",
    "    \"20220619_164056\",\n",
    "    \"20220619_162829\",\n",
    "    \"20220619_162632\",\n",
    "    \"20220619_161836\",\n",
    "    \"20220619_161640\",\n",
    "    \"20220619_160446\"\n",
    "])\n",
    "\n",
    "P_min = -70 ; P_max = 0 ; P_step = 5\n",
    "powers_list = np.arange(start=P_max, stop=P_min-P_step, step=-P_step)[3:]"
   ]
  },
  {
   "cell_type": "code",
   "execution_count": null,
   "metadata": {},
   "outputs": [],
   "source": [
    "## 6/30 Al Runs - Shield Open, No Laser\n",
    "series_list = np.array([\n",
    "    \"20220630_090941\",\n",
    "    \"20220630_090827\",\n",
    "    \"20220630_090713\",\n",
    "    \"20220630_090559\",\n",
    "    \"20220630_090445\",\n",
    "    \"20220630_090331\",\n",
    "    \"20220630_090217\",\n",
    "    \"20220630_090103\",\n",
    "    \"20220630_085949\",\n",
    "    \"20220630_085835\",\n",
    "    \"20220630_085721\",\n",
    "    \"20220630_085600\"\n",
    "])\n",
    "\n",
    "P_min = -70 ; P_max = -15 ; P_step = 5\n",
    "powers_list = np.arange(start=P_max, stop=P_min-P_step, step=-P_step)"
   ]
  },
  {
   "cell_type": "code",
   "execution_count": null,
   "metadata": {},
   "outputs": [],
   "source": [
    "## 6/30 Al Runs - Shield Closed, No Laser, people in clean room\n",
    "series_list = np.array([\n",
    "    \"20220630_120041\",\n",
    "    \"20220630_115927\",\n",
    "    \"20220630_115813\",\n",
    "    \"20220630_115659\",\n",
    "    \"20220630_115545\",\n",
    "    \"20220630_115431\",\n",
    "    \"20220630_115317\",\n",
    "    \"20220630_115203\",\n",
    "    \"20220630_115049\",\n",
    "    \"20220630_114935\",\n",
    "    \"20220630_114821\",\n",
    "    \"20220630_114700\"\n",
    "])\n",
    "\n",
    "P_min = -70 ; P_max = -15 ; P_step = 5\n",
    "powers_list = np.arange(start=P_max, stop=P_min-P_step, step=-P_step)"
   ]
  },
  {
   "cell_type": "code",
   "execution_count": null,
   "metadata": {},
   "outputs": [],
   "source": [
    "## 6/30 Al Runs - Shield Closed, No Laser\n",
    "series_list = np.array([\n",
    "    \"20220630_155428\",\n",
    "    \"20220630_155320\",\n",
    "    \"20220630_155212\",\n",
    "    \"20220630_155104\",\n",
    "    \"20220630_154956\",\n",
    "    \"20220630_154848\",\n",
    "    \"20220630_154740\",\n",
    "    \"20220630_154632\",\n",
    "    \"20220630_154524\",\n",
    "    \"20220630_154416\",\n",
    "    \"20220630_154308\",\n",
    "    \"20220630_154154\"\n",
    "])\n",
    "\n",
    "P_min = -70 ; P_max = -15 ; P_step = 5\n",
    "powers_list = np.arange(start=P_max, stop=P_min-P_step, step=-P_step)"
   ]
  },
  {
   "cell_type": "code",
   "execution_count": null,
   "metadata": {},
   "outputs": [],
   "source": [
    "## 7/6 Al Runs - Shield Closed, No Laser\n",
    "series_list = np.array([\n",
    "    \"20220706_164154\",\n",
    "    \"20220706_164040\",\n",
    "    \"20220706_163926\",\n",
    "    \"20220706_163812\",\n",
    "    \"20220706_163658\",\n",
    "    \"20220706_163544\",\n",
    "    \"20220706_163430\",\n",
    "    \"20220706_163316\",\n",
    "    \"20220706_163202\",\n",
    "    \"20220706_163048\",\n",
    "    \"20220706_162934\",\n",
    "    \"20220706_162814\"\n",
    "])\n",
    "\n",
    "P_min = -70 ; P_max = -15 ; P_step = 5\n",
    "powers_list = np.arange(start=P_max, stop=P_min-P_step, step=-P_step)"
   ]
  },
  {
   "cell_type": "code",
   "execution_count": null,
   "metadata": {},
   "outputs": [],
   "source": [
    "## 10/19 Al Runs - Shield Open, No Laser\n",
    "series_list = np.array([\n",
    "    \"20221019_121526\",\n",
    "    \"20221019_121708\",\n",
    "    \"20221019_121843\",\n",
    "    \"20221019_122019\",\n",
    "    \"20221019_122154\",\n",
    "    \"20221019_122329\",\n",
    "    \"20221019_122504\",\n",
    "    \"20221019_122639\",\n",
    "    \"20221019_122815\",\n",
    "    \"20221019_122951\"\n",
    "])\n",
    "\n",
    "P_min = -60 ; P_max = -15 ; P_step = 5\n",
    "powers_list = np.arange(start=P_max, stop=P_min-P_step, step=-P_step)[::-1]"
   ]
  },
  {
   "cell_type": "code",
   "execution_count": 4,
   "metadata": {},
   "outputs": [],
   "source": [
    "## 10/28 Al Runs - Shield Open, No Laser\n",
    "series_list = np.array([\n",
    "    \"20221028_150303\",\n",
    "    \"20221028_150154\",\n",
    "    \"20221028_150045\",\n",
    "    \"20221028_145936\",\n",
    "    \"20221028_145827\",\n",
    "    \"20221028_145718\",\n",
    "    \"20221028_145609\",\n",
    "    \"20221028_145500\",\n",
    "    \"20221028_145352\",\n",
    "    \"20221028_145244\",\n",
    "    \"20221028_145136\",\n",
    "    \"20221028_145021\"\n",
    "])\n",
    "\n",
    "P_min = -70 ; P_max = -15 ; P_step = 5\n",
    "powers_list = np.arange(start=P_max, stop=P_min-P_step, step=-P_step)"
   ]
  },
  {
   "cell_type": "code",
   "execution_count": 5,
   "metadata": {
    "scrolled": true
   },
   "outputs": [
    {
     "name": "stdout",
     "output_type": "stream",
     "text": [
      "20221028_150303 : -15 dBm\n",
      "20221028_150154 : -20 dBm\n",
      "20221028_150045 : -25 dBm\n",
      "20221028_145936 : -30 dBm\n",
      "20221028_145827 : -35 dBm\n",
      "20221028_145718 : -40 dBm\n",
      "20221028_145609 : -45 dBm\n",
      "20221028_145500 : -50 dBm\n",
      "20221028_145352 : -55 dBm\n",
      "20221028_145244 : -60 dBm\n",
      "20221028_145136 : -65 dBm\n",
      "20221028_145021 : -70 dBm\n"
     ]
    }
   ],
   "source": [
    "for i in np.arange(len(series_list)):\n",
    "    print(series_list[i], \":\", powers_list[i], \"dBm\")"
   ]
  },
  {
   "cell_type": "code",
   "execution_count": 6,
   "metadata": {},
   "outputs": [
    {
     "name": "stdout",
     "output_type": "stream",
     "text": [
      "Line Delay file:  None\n",
      "VNA scan file:    None\n",
      "Noise ts files:   []\n",
      "Laser ts files:   []\n",
      "Summary file:\t None\n"
     ]
    },
    {
     "ename": "OSError",
     "evalue": "Unable to open file (unable to open file: name = 'None', errno = 2, error message = 'No such file or directory', flags = 0, o_flags = 0)",
     "output_type": "error",
     "traceback": [
      "\u001b[0;31m---------------------------------------------------------------------------\u001b[0m",
      "\u001b[0;31mOSError\u001b[0m                                   Traceback (most recent call last)",
      "\u001b[0;32m<ipython-input-6-3dbcc48d2308>\u001b[0m in \u001b[0;36m<module>\u001b[0;34m\u001b[0m\n\u001b[1;32m      1\u001b[0m \u001b[0msum_file\u001b[0m\u001b[0;34m,\u001b[0m \u001b[0mdly_file\u001b[0m\u001b[0;34m,\u001b[0m \u001b[0mvna_file\u001b[0m\u001b[0;34m,\u001b[0m \u001b[0mtone_files\u001b[0m \u001b[0;34m=\u001b[0m \u001b[0mThf\u001b[0m\u001b[0;34m.\u001b[0m\u001b[0mGetFiles\u001b[0m\u001b[0;34m(\u001b[0m\u001b[0mseries_list\u001b[0m\u001b[0;34m[\u001b[0m\u001b[0;36m3\u001b[0m\u001b[0;34m]\u001b[0m\u001b[0;34m,\u001b[0m \u001b[0mverbose\u001b[0m\u001b[0;34m=\u001b[0m\u001b[0;32mTrue\u001b[0m\u001b[0;34m)\u001b[0m\u001b[0;34m\u001b[0m\u001b[0;34m\u001b[0m\u001b[0m\n\u001b[0;32m----> 2\u001b[0;31m \u001b[0mmetadata\u001b[0m\u001b[0;34m,\u001b[0m \u001b[0mavg_frqs\u001b[0m\u001b[0;34m,\u001b[0m \u001b[0mavg_S21s\u001b[0m \u001b[0;34m=\u001b[0m \u001b[0mThf\u001b[0m\u001b[0;34m.\u001b[0m\u001b[0mUnpackSummary\u001b[0m\u001b[0;34m(\u001b[0m\u001b[0msum_file\u001b[0m\u001b[0;34m)\u001b[0m\u001b[0;34m\u001b[0m\u001b[0;34m\u001b[0m\u001b[0m\n\u001b[0m\u001b[1;32m      3\u001b[0m \u001b[0mprint\u001b[0m\u001b[0;34m(\u001b[0m\u001b[0mavg_frqs\u001b[0m\u001b[0;34m,\u001b[0m \u001b[0mavg_S21s\u001b[0m\u001b[0;34m)\u001b[0m\u001b[0;34m\u001b[0m\u001b[0;34m\u001b[0m\u001b[0m\n",
      "\u001b[0;32m~/NEXUS_RF/BackendTools/TimestreamHelperFunctions.py\u001b[0m in \u001b[0;36mUnpackSummary\u001b[0;34m(s_file_path, verbose)\u001b[0m\n\u001b[1;32m     70\u001b[0m \u001b[0;34m\u001b[0m\u001b[0m\n\u001b[1;32m     71\u001b[0m         \u001b[0;31m## Open the summary file in read-only mode\u001b[0m\u001b[0;34m\u001b[0m\u001b[0;34m\u001b[0m\u001b[0;34m\u001b[0m\u001b[0m\n\u001b[0;32m---> 72\u001b[0;31m         \u001b[0mfsum\u001b[0m \u001b[0;34m=\u001b[0m \u001b[0mh5py\u001b[0m\u001b[0;34m.\u001b[0m\u001b[0mFile\u001b[0m\u001b[0;34m(\u001b[0m\u001b[0ms_file_path\u001b[0m\u001b[0;34m,\u001b[0m \u001b[0;34m'r'\u001b[0m\u001b[0;34m)\u001b[0m\u001b[0;34m\u001b[0m\u001b[0;34m\u001b[0m\u001b[0m\n\u001b[0m\u001b[1;32m     73\u001b[0m         \u001b[0;32mif\u001b[0m \u001b[0mverbose\u001b[0m\u001b[0;34m:\u001b[0m\u001b[0;34m\u001b[0m\u001b[0;34m\u001b[0m\u001b[0m\n\u001b[1;32m     74\u001b[0m                 \u001b[0mprint\u001b[0m\u001b[0;34m(\u001b[0m\u001b[0;34m\"File keys:            \"\u001b[0m\u001b[0;34m,\u001b[0m \u001b[0mfsum\u001b[0m\u001b[0;34m.\u001b[0m\u001b[0mkeys\u001b[0m\u001b[0;34m(\u001b[0m\u001b[0;34m)\u001b[0m\u001b[0;34m)\u001b[0m\u001b[0;34m\u001b[0m\u001b[0;34m\u001b[0m\u001b[0m\n",
      "\u001b[0;32m/usr/local/share/anaconda3/lib/python3.8/site-packages/h5py/_hl/files.py\u001b[0m in \u001b[0;36m__init__\u001b[0;34m(self, name, mode, driver, libver, userblock_size, swmr, rdcc_nslots, rdcc_nbytes, rdcc_w0, track_order, **kwds)\u001b[0m\n\u001b[1;32m    404\u001b[0m             \u001b[0;32mwith\u001b[0m \u001b[0mphil\u001b[0m\u001b[0;34m:\u001b[0m\u001b[0;34m\u001b[0m\u001b[0;34m\u001b[0m\u001b[0m\n\u001b[1;32m    405\u001b[0m                 \u001b[0mfapl\u001b[0m \u001b[0;34m=\u001b[0m \u001b[0mmake_fapl\u001b[0m\u001b[0;34m(\u001b[0m\u001b[0mdriver\u001b[0m\u001b[0;34m,\u001b[0m \u001b[0mlibver\u001b[0m\u001b[0;34m,\u001b[0m \u001b[0mrdcc_nslots\u001b[0m\u001b[0;34m,\u001b[0m \u001b[0mrdcc_nbytes\u001b[0m\u001b[0;34m,\u001b[0m \u001b[0mrdcc_w0\u001b[0m\u001b[0;34m,\u001b[0m \u001b[0;34m**\u001b[0m\u001b[0mkwds\u001b[0m\u001b[0;34m)\u001b[0m\u001b[0;34m\u001b[0m\u001b[0;34m\u001b[0m\u001b[0m\n\u001b[0;32m--> 406\u001b[0;31m                 fid = make_fid(name, mode, userblock_size,\n\u001b[0m\u001b[1;32m    407\u001b[0m                                \u001b[0mfapl\u001b[0m\u001b[0;34m,\u001b[0m \u001b[0mfcpl\u001b[0m\u001b[0;34m=\u001b[0m\u001b[0mmake_fcpl\u001b[0m\u001b[0;34m(\u001b[0m\u001b[0mtrack_order\u001b[0m\u001b[0;34m=\u001b[0m\u001b[0mtrack_order\u001b[0m\u001b[0;34m)\u001b[0m\u001b[0;34m,\u001b[0m\u001b[0;34m\u001b[0m\u001b[0;34m\u001b[0m\u001b[0m\n\u001b[1;32m    408\u001b[0m                                swmr=swmr)\n",
      "\u001b[0;32m/usr/local/share/anaconda3/lib/python3.8/site-packages/h5py/_hl/files.py\u001b[0m in \u001b[0;36mmake_fid\u001b[0;34m(name, mode, userblock_size, fapl, fcpl, swmr)\u001b[0m\n\u001b[1;32m    171\u001b[0m         \u001b[0;32mif\u001b[0m \u001b[0mswmr\u001b[0m \u001b[0;32mand\u001b[0m \u001b[0mswmr_support\u001b[0m\u001b[0;34m:\u001b[0m\u001b[0;34m\u001b[0m\u001b[0;34m\u001b[0m\u001b[0m\n\u001b[1;32m    172\u001b[0m             \u001b[0mflags\u001b[0m \u001b[0;34m|=\u001b[0m \u001b[0mh5f\u001b[0m\u001b[0;34m.\u001b[0m\u001b[0mACC_SWMR_READ\u001b[0m\u001b[0;34m\u001b[0m\u001b[0;34m\u001b[0m\u001b[0m\n\u001b[0;32m--> 173\u001b[0;31m         \u001b[0mfid\u001b[0m \u001b[0;34m=\u001b[0m \u001b[0mh5f\u001b[0m\u001b[0;34m.\u001b[0m\u001b[0mopen\u001b[0m\u001b[0;34m(\u001b[0m\u001b[0mname\u001b[0m\u001b[0;34m,\u001b[0m \u001b[0mflags\u001b[0m\u001b[0;34m,\u001b[0m \u001b[0mfapl\u001b[0m\u001b[0;34m=\u001b[0m\u001b[0mfapl\u001b[0m\u001b[0;34m)\u001b[0m\u001b[0;34m\u001b[0m\u001b[0;34m\u001b[0m\u001b[0m\n\u001b[0m\u001b[1;32m    174\u001b[0m     \u001b[0;32melif\u001b[0m \u001b[0mmode\u001b[0m \u001b[0;34m==\u001b[0m \u001b[0;34m'r+'\u001b[0m\u001b[0;34m:\u001b[0m\u001b[0;34m\u001b[0m\u001b[0;34m\u001b[0m\u001b[0m\n\u001b[1;32m    175\u001b[0m         \u001b[0mfid\u001b[0m \u001b[0;34m=\u001b[0m \u001b[0mh5f\u001b[0m\u001b[0;34m.\u001b[0m\u001b[0mopen\u001b[0m\u001b[0;34m(\u001b[0m\u001b[0mname\u001b[0m\u001b[0;34m,\u001b[0m \u001b[0mh5f\u001b[0m\u001b[0;34m.\u001b[0m\u001b[0mACC_RDWR\u001b[0m\u001b[0;34m,\u001b[0m \u001b[0mfapl\u001b[0m\u001b[0;34m=\u001b[0m\u001b[0mfapl\u001b[0m\u001b[0;34m)\u001b[0m\u001b[0;34m\u001b[0m\u001b[0;34m\u001b[0m\u001b[0m\n",
      "\u001b[0;32mh5py/_objects.pyx\u001b[0m in \u001b[0;36mh5py._objects.with_phil.wrapper\u001b[0;34m()\u001b[0m\n",
      "\u001b[0;32mh5py/_objects.pyx\u001b[0m in \u001b[0;36mh5py._objects.with_phil.wrapper\u001b[0;34m()\u001b[0m\n",
      "\u001b[0;32mh5py/h5f.pyx\u001b[0m in \u001b[0;36mh5py.h5f.open\u001b[0;34m()\u001b[0m\n",
      "\u001b[0;31mOSError\u001b[0m: Unable to open file (unable to open file: name = 'None', errno = 2, error message = 'No such file or directory', flags = 0, o_flags = 0)"
     ]
    }
   ],
   "source": [
    "sum_file, dly_file, vna_file, tone_files = Thf.GetFiles(series_list[3], verbose=True)\n",
    "metadata, avg_frqs, avg_S21s = Thf.UnpackSummary(sum_file)\n",
    "print(avg_frqs, avg_S21s)"
   ]
  },
  {
   "cell_type": "code",
   "execution_count": null,
   "metadata": {
    "scrolled": false
   },
   "outputs": [],
   "source": [
    "powers, PSDs, res, timestreams = Thf.CleanPSDs(tone_files[0], vna_file, f_transient=0.075,\n",
    "                                               charFs = avg_frqs,\n",
    "                                               charZs = avg_S21s,\n",
    "                                               MBresults = MB_fit_vals)"
   ]
  },
  {
   "cell_type": "code",
   "execution_count": null,
   "metadata": {},
   "outputs": [],
   "source": [
    "PSDs.keys()"
   ]
  },
  {
   "cell_type": "code",
   "execution_count": null,
   "metadata": {},
   "outputs": [],
   "source": [
    "plt.loglog(PSDs['f'],PSDs['kappa_1'])"
   ]
  },
  {
   "cell_type": "code",
   "execution_count": null,
   "metadata": {},
   "outputs": [],
   "source": [
    "del powers, PSDs, res, timestreams"
   ]
  },
  {
   "cell_type": "markdown",
   "metadata": {},
   "source": [
    "## Now package it all together"
   ]
  },
  {
   "cell_type": "code",
   "execution_count": null,
   "metadata": {
    "scrolled": false
   },
   "outputs": [],
   "source": [
    "Thf.PlotPSDsByPower(series_list, powers_list, fHz_range = [1e2,3e5], \\\n",
    "\te_b_PSDrange = [1e-13,1e-10], r_b_PSDrange = [1e-21,1e-15], \\\n",
    "\tq_b_PSDrange = [1e-4,5e1], MB_fit_result=MB_fit_vals)"
   ]
  },
  {
   "cell_type": "code",
   "execution_count": null,
   "metadata": {},
   "outputs": [],
   "source": []
  }
 ],
 "metadata": {
  "kernelspec": {
   "display_name": "Python 3",
   "language": "python",
   "name": "python3"
  },
  "language_info": {
   "codemirror_mode": {
    "name": "ipython",
    "version": 3
   },
   "file_extension": ".py",
   "mimetype": "text/x-python",
   "name": "python",
   "nbconvert_exporter": "python",
   "pygments_lexer": "ipython3",
   "version": "3.8.5"
  }
 },
 "nbformat": 4,
 "nbformat_minor": 4
}
