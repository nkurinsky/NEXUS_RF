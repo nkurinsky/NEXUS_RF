{
 "cells": [
  {
   "cell_type": "code",
   "execution_count": 1,
   "metadata": {},
   "outputs": [],
   "source": [
    "import os, sys\n",
    "import numpy as np\n",
    "import pandas as pd\n",
    "from glob import glob\n",
    "\n",
    "import matplotlib.pyplot as plt\n",
    "\n",
    "import PulseTriggeringTools as ptt\n",
    "import TimestreamHelperFunctions as Thf"
   ]
  },
  {
   "cell_type": "code",
   "execution_count": 2,
   "metadata": {},
   "outputs": [],
   "source": [
    "def DrawGauss(ax, mu, sig, amp):\n",
    "    xlim  = ax.get_xlim()\n",
    "    xvals = np.linspace(xlim[0], xlim[1], 200)\n",
    "#     yvals = (1./(np.sqrt(2.*np.pi)*sig)) * np.exp(-0.5*np.power((xvals-mu)/sig,2))\n",
    "    yvals = amp * np.exp(-0.5*np.power((xvals-mu)/sig,2))\n",
    "    ax.plot(xvals,yvals,'r')\n",
    "    ax.set_xlim(xlim)"
   ]
  },
  {
   "cell_type": "code",
   "execution_count": 3,
   "metadata": {},
   "outputs": [],
   "source": [
    "%matplotlib notebook"
   ]
  },
  {
   "cell_type": "code",
   "execution_count": 4,
   "metadata": {},
   "outputs": [
    {
     "data": {
      "text/html": [
       "<div>\n",
       "<style scoped>\n",
       "    .dataframe tbody tr th:only-of-type {\n",
       "        vertical-align: middle;\n",
       "    }\n",
       "\n",
       "    .dataframe tbody tr th {\n",
       "        vertical-align: top;\n",
       "    }\n",
       "\n",
       "    .dataframe thead th {\n",
       "        text-align: right;\n",
       "    }\n",
       "</style>\n",
       "<table border=\"1\" class=\"dataframe\">\n",
       "  <thead>\n",
       "    <tr style=\"text-align: right;\">\n",
       "      <th></th>\n",
       "      <th>series</th>\n",
       "      <th>Vled</th>\n",
       "    </tr>\n",
       "  </thead>\n",
       "  <tbody>\n",
       "    <tr>\n",
       "      <th>0</th>\n",
       "      <td>20220721_123409</td>\n",
       "      <td>4.0</td>\n",
       "    </tr>\n",
       "    <tr>\n",
       "      <th>1</th>\n",
       "      <td>20220721_123710</td>\n",
       "      <td>3.8</td>\n",
       "    </tr>\n",
       "    <tr>\n",
       "      <th>2</th>\n",
       "      <td>20220721_124011</td>\n",
       "      <td>3.6</td>\n",
       "    </tr>\n",
       "    <tr>\n",
       "      <th>3</th>\n",
       "      <td>20220720_150715</td>\n",
       "      <td>3.4</td>\n",
       "    </tr>\n",
       "    <tr>\n",
       "      <th>4</th>\n",
       "      <td>20220720_150540</td>\n",
       "      <td>3.2</td>\n",
       "    </tr>\n",
       "    <tr>\n",
       "      <th>5</th>\n",
       "      <td>20220720_144600</td>\n",
       "      <td>3.0</td>\n",
       "    </tr>\n",
       "    <tr>\n",
       "      <th>6</th>\n",
       "      <td>20220720_150408</td>\n",
       "      <td>3.8</td>\n",
       "    </tr>\n",
       "    <tr>\n",
       "      <th>7</th>\n",
       "      <td>20220720_150240</td>\n",
       "      <td>2.6</td>\n",
       "    </tr>\n",
       "    <tr>\n",
       "      <th>8</th>\n",
       "      <td>20220720_150108</td>\n",
       "      <td>2.4</td>\n",
       "    </tr>\n",
       "    <tr>\n",
       "      <th>9</th>\n",
       "      <td>20220720_145935</td>\n",
       "      <td>2.2</td>\n",
       "    </tr>\n",
       "    <tr>\n",
       "      <th>10</th>\n",
       "      <td>20220720_144037</td>\n",
       "      <td>2.0</td>\n",
       "    </tr>\n",
       "  </tbody>\n",
       "</table>\n",
       "</div>"
      ],
      "text/plain": [
       "             series  Vled\n",
       "0   20220721_123409   4.0\n",
       "1   20220721_123710   3.8\n",
       "2   20220721_124011   3.6\n",
       "3   20220720_150715   3.4\n",
       "4   20220720_150540   3.2\n",
       "5   20220720_144600   3.0\n",
       "6   20220720_150408   3.8\n",
       "7   20220720_150240   2.6\n",
       "8   20220720_150108   2.4\n",
       "9   20220720_145935   2.2\n",
       "10  20220720_144037   2.0"
      ]
     },
     "execution_count": 4,
     "metadata": {},
     "output_type": "execute_result"
    }
   ],
   "source": [
    "## Define the runs of interest\n",
    "run_dict = {\"series\": [\n",
    "    \"20220721_123409\",\n",
    "    \"20220721_123710\",\n",
    "    \"20220721_124011\",\n",
    "    \"20220720_150715\",\n",
    "    \"20220720_150540\",\n",
    "    \"20220720_144600\",\n",
    "    \"20220720_150408\",\n",
    "    \"20220720_150240\",\n",
    "    \"20220720_150108\",\n",
    "    \"20220720_145935\",\n",
    "    \"20220720_144037\" ] , \n",
    "            \"Vled\"  : [\n",
    "    4.0,\n",
    "    3.8,\n",
    "    3.6,\n",
    "    3.4,\n",
    "    3.2,\n",
    "    3.0,\n",
    "    3.8,\n",
    "    2.6,\n",
    "    2.4,\n",
    "    2.2,\n",
    "    2.0 ] }\n",
    "run_df = pd.DataFrame(run_dict)\n",
    "run_df"
   ]
  },
  {
   "cell_type": "code",
   "execution_count": null,
   "metadata": {},
   "outputs": [],
   "source": [
    "# series    = '20220715_143419'\n",
    "series    = run_df['series'].loc[run_df['Vled']==4.0][0]\n",
    "data_path = os.path.join('/data/USRP_Noise_Scans',series.split('_')[0],series)"
   ]
  },
  {
   "cell_type": "code",
   "execution_count": null,
   "metadata": {
    "scrolled": true
   },
   "outputs": [],
   "source": [
    "sum_file, dly_file, vna_file, tone_files = Thf.GetFiles(series, verbose=True)"
   ]
  },
  {
   "cell_type": "markdown",
   "metadata": {},
   "source": [
    "# Phase Response"
   ]
  },
  {
   "cell_type": "code",
   "execution_count": null,
   "metadata": {
    "scrolled": false
   },
   "outputs": [],
   "source": [
    "pulseCount, traces = ptt.GetResponse(series, trig_channel=\"Phase\", \n",
    "                                     traceLength=8192, trig_th=1.0e4, tauFall=500e-6, mean_pre_samps=800, \n",
    "                                     doAlign = False, verbose=True, show_plots=True)"
   ]
  },
  {
   "cell_type": "code",
   "execution_count": null,
   "metadata": {},
   "outputs": [],
   "source": [
    "# %matplotlib inline\n",
    "pulse_heights, taus = ptt.CalcPulseParams(traces)\n",
    "\n",
    "med_ph_phase  = np.median(pulse_heights)\n",
    "sig_ph_phase  = np.std(pulse_heights)\n",
    "med_tau_phase = np.median(taus)\n",
    "sig_tau_phase = np.std(taus)\n",
    "\n",
    "# height_bins = np.linspace(0.1,4.1,30)\n",
    "plt.figure()\n",
    "cts, bins, edges = plt.hist(pulse_heights)#,bins=height_bins)\n",
    "# plt.xlabel('Magnitude Response: Pulse Height')\n",
    "plt.xlabel('Phase Respone: Pulse Height [radians]')\n",
    "plt.title('# of pulses = '+str(len(traces)))\n",
    "xlim = plt.gca().get_xlim()\n",
    "ylim = plt.gca().get_ylim()\n",
    "plt.plot( med_ph_phase*np.ones(2) , ylim , 'r--')\n",
    "DrawGauss(plt.gca(), med_ph_phase, sig_ph_phase, np.max(cts))\n",
    "plt.gca().set_xlim(xlim)\n",
    "plt.gca().set_ylim(ylim)\n",
    "# plt.savefig('pulse_heights.png')\n",
    "\n",
    "\n",
    "plt.figure()\n",
    "plt.xlabel('\"tau\" in microseconds')\n",
    "plt.title('histogram of \"taus\"')\n",
    "cts, bins, edges = plt.hist(taus,bins=25)\n",
    "xlim = plt.gca().get_xlim()\n",
    "ylim = plt.gca().get_ylim()\n",
    "plt.plot( med_tau_phase*np.ones(2) , ylim , 'r--')\n",
    "DrawGauss(plt.gca(), med_tau_phase, sig_tau_phase, np.max(cts))\n",
    "plt.gca().set_xlim(xlim)\n",
    "plt.gca().set_ylim(ylim)\n",
    "# plt.savefig('pulse_lifetimes.png')"
   ]
  },
  {
   "cell_type": "markdown",
   "metadata": {},
   "source": [
    "# Magnitude Response"
   ]
  },
  {
   "cell_type": "code",
   "execution_count": null,
   "metadata": {},
   "outputs": [],
   "source": [
    "pulseCount, traces = ptt.GetResponse(series, trig_channel=\"Magnitude\", \n",
    "                                     traceLength=4096, trig_th=1.0e4, tauFall=500e-6, mean_pre_samps=800, \n",
    "                                     doAlign = False, verbose=True, show_plots=True)"
   ]
  },
  {
   "cell_type": "code",
   "execution_count": null,
   "metadata": {
    "scrolled": false
   },
   "outputs": [],
   "source": [
    "# %matplotlib inline\n",
    "pulse_heights, taus = ptt.CalcPulseParams(traces)\n",
    "\n",
    "med_ph_mag  = np.median(pulse_heights)\n",
    "sig_ph_mag  = np.std(pulse_heights)\n",
    "med_tau_mag = np.median(taus)\n",
    "sig_tau_mag = np.std(taus)\n",
    "\n",
    "# height_bins = np.linspace(0.1,4.1,30)\n",
    "plt.figure()\n",
    "cts, bins, edges = plt.hist(pulse_heights)#,bins=height_bins)\n",
    "plt.xlabel('Magnitude Response: Pulse Height')\n",
    "plt.title('# of pulses = '+str(len(traces)))\n",
    "xlim = plt.gca().get_xlim()\n",
    "ylim = plt.gca().get_ylim()\n",
    "plt.plot( med_ph_mag*np.ones(2) , ylim , 'r--')\n",
    "DrawGauss(plt.gca(), med_ph_mag, sig_ph_mag, np.max(cts))\n",
    "plt.gca().set_xlim(xlim)\n",
    "plt.gca().set_ylim(ylim)\n",
    "# plt.savefig('pulse_heights.png')\n",
    "\n",
    "plt.figure()\n",
    "plt.xlabel('\"tau\" in microseconds')\n",
    "plt.title('histogram of \"taus\"')\n",
    "cts, bins, edges = plt.hist(taus,bins=25)\n",
    "xlim = plt.gca().get_xlim()\n",
    "ylim = plt.gca().get_ylim()\n",
    "plt.plot( med_tau_mag*np.ones(2) , ylim , 'r--')\n",
    "DrawGauss(plt.gca(), med_tau_mag, sig_tau_mag, np.max(cts))\n",
    "plt.gca().set_xlim(xlim)\n",
    "plt.gca().set_ylim(ylim)\n",
    "# plt.savefig('pulse_lifetimes.png')\n",
    "\n",
    "# plt.figure('interesting pulse heights')\n",
    "# plt.hist(interestingPulseHeights,bins = height_bins)\n",
    "# plt.xlabel('radians')\n",
    "# plt.title('only plotting taus between 200 and 600 microseconds')\n",
    "# plt.savefig('pulse_heights_lifetime_cut.png')\n",
    "# plt.show()"
   ]
  },
  {
   "cell_type": "code",
   "execution_count": null,
   "metadata": {},
   "outputs": [],
   "source": []
  }
 ],
 "metadata": {
  "kernelspec": {
   "display_name": "Python 3",
   "language": "python",
   "name": "python3"
  },
  "language_info": {
   "codemirror_mode": {
    "name": "ipython",
    "version": 3
   },
   "file_extension": ".py",
   "mimetype": "text/x-python",
   "name": "python",
   "nbconvert_exporter": "python",
   "pygments_lexer": "ipython3",
   "version": "3.8.5"
  }
 },
 "nbformat": 4,
 "nbformat_minor": 4
}
