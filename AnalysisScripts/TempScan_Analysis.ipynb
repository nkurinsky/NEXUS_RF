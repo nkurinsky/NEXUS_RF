{
 "cells": [
  {
   "cell_type": "code",
   "execution_count": 1,
   "metadata": {},
   "outputs": [],
   "source": [
    "from __future__ import division\n",
    "import sys,os\n",
    "import time\n",
    "import argparse\n",
    "\n",
    "import numpy as np\n",
    "import matplotlib.pyplot as plt\n",
    "from   matplotlib import cm\n",
    "\n",
    "import pandas as pd\n",
    "from   glob import glob"
   ]
  },
  {
   "cell_type": "markdown",
   "metadata": {},
   "source": [
    "## Import MKID libraries"
   ]
  },
  {
   "cell_type": "code",
   "execution_count": 2,
   "metadata": {},
   "outputs": [
    {
     "ename": "ModuleNotFoundError",
     "evalue": "No module named 'VNAMeas'",
     "output_type": "error",
     "traceback": [
      "\u001b[0;31m---------------------------------------------------------------------------\u001b[0m",
      "\u001b[0;31mModuleNotFoundError\u001b[0m                       Traceback (most recent call last)",
      "\u001b[0;32m<ipython-input-2-b42d5ba550d8>\u001b[0m in \u001b[0;36m<module>\u001b[0;34m\u001b[0m\n\u001b[1;32m      3\u001b[0m \u001b[0;34m\u001b[0m\u001b[0m\n\u001b[1;32m      4\u001b[0m \u001b[0msys\u001b[0m\u001b[0;34m.\u001b[0m\u001b[0mpath\u001b[0m\u001b[0;34m.\u001b[0m\u001b[0mappend\u001b[0m\u001b[0;34m(\u001b[0m\u001b[0;34m'/home/nexus-admin/NEXUS_RF/AcquisitionScripts'\u001b[0m\u001b[0;34m)\u001b[0m\u001b[0;34m\u001b[0m\u001b[0;34m\u001b[0m\u001b[0m\n\u001b[0;32m----> 5\u001b[0;31m \u001b[0;32mfrom\u001b[0m \u001b[0mVNAMeas\u001b[0m \u001b[0;32mimport\u001b[0m \u001b[0;34m*\u001b[0m\u001b[0;34m\u001b[0m\u001b[0;34m\u001b[0m\u001b[0m\n\u001b[0m\u001b[1;32m      6\u001b[0m \u001b[0;34m\u001b[0m\u001b[0m\n\u001b[1;32m      7\u001b[0m \u001b[0;32mimport\u001b[0m \u001b[0mPyMKID_USRP_functions\u001b[0m \u001b[0;32mas\u001b[0m \u001b[0mpuf\u001b[0m\u001b[0;34m\u001b[0m\u001b[0;34m\u001b[0m\u001b[0m\n",
      "\u001b[0;31mModuleNotFoundError\u001b[0m: No module named 'VNAMeas'"
     ]
    }
   ],
   "source": [
    "import ResonanceFitter as fitres\n",
    "import ResonanceFitResult as fitclass\n",
    "\n",
    "sys.path.append('/home/nexus-admin/NEXUS_RF/AcquisitionScripts')\n",
    "from VNAMeas import *\n",
    "\n",
    "import PyMKID_USRP_functions as puf"
   ]
  },
  {
   "cell_type": "markdown",
   "metadata": {},
   "source": [
    "## Runtime options"
   ]
  },
  {
   "cell_type": "code",
   "execution_count": 3,
   "metadata": {},
   "outputs": [],
   "source": [
    "## Flag to display plots\n",
    "show_plots = False\n",
    "\n",
    "## Which powers to look at\n",
    "pwr_min = -55\n",
    "pwr_max = -15\n",
    "pwr_stp =   5\n",
    "\n",
    "## What's the temperature range\n",
    "T_min =  10 \n",
    "T_max = 350"
   ]
  },
  {
   "cell_type": "markdown",
   "metadata": {},
   "source": [
    "## Set up global plot options"
   ]
  },
  {
   "cell_type": "code",
   "execution_count": 4,
   "metadata": {},
   "outputs": [],
   "source": [
    "## Set up matplotlib options for plots\n",
    "plt.rcParams['axes.grid'] = True\n",
    "plt.rcParams.update({'font.size': 12})\n",
    "#plt.rc('text', usetex=True)\n",
    "plt.rc('font', family='serif')\n",
    "dfc = plt.rcParams['axes.prop_cycle'].by_key()['color']\n",
    "\n",
    "## Temperature color scale\n",
    "norm_T = plt.Normalize(vmin=T_min,vmax=T_max)\n",
    "norm_P = plt.Normalize(vmin=pwr_min,vmax=pwr_max)"
   ]
  },
  {
   "cell_type": "markdown",
   "metadata": {},
   "source": [
    "## Paths & file handling"
   ]
  },
  {
   "cell_type": "code",
   "execution_count": 5,
   "metadata": {},
   "outputs": [],
   "source": [
    "## Series identifier\n",
    "day    = '20220419'\n",
    "\n",
    "## Path to VNA data\n",
    "dataPath = '/data/TempSweeps/VNA/'\n",
    "\n",
    "## Create a place to store processed output\n",
    "# out_path = '/data/ProcessedOutputs/out_' + series"
   ]
  },
  {
   "cell_type": "markdown",
   "metadata": {},
   "source": [
    "## Method to pull all files for a given RF power"
   ]
  },
  {
   "cell_type": "code",
   "execution_count": 8,
   "metadata": {},
   "outputs": [],
   "source": [
    "def get_input_files(day, pwr):\n",
    "\n",
    "    ## Get all folders in date\n",
    "    datePath    = os.path.join(dataPath, day)\n",
    "\n",
    "    ## Define the series path from the series\n",
    "    srPath = os.path.join(datePath, day+\"_*\")\n",
    "\n",
    "    ## File string format\n",
    "    fn_form = (\"TPsweep_T*_P%i\" % pwr) + \"_*.h5\"\n",
    "\n",
    "    ## Find and sort the relevant directories in the series\n",
    "    print(\"Searching for files in:\", srPath)\n",
    "    print(\" with form:\", fn_form)\n",
    "    vna_file_list = glob(os.path.join(srPath,fn_prefix+fn_suffix))\n",
    "    vna_file_list.sort(key=os.path.getmtime)\n",
    "    print(\"Using files:\")\n",
    "    for fname in vna_file_list:\n",
    "        print(\"-\",fname)\n",
    "    return vna_file_list"
   ]
  },
  {
   "cell_type": "markdown",
   "metadata": {},
   "source": [
    "## Method to fit the spectra for each power"
   ]
  },
  {
   "cell_type": "code",
   "execution_count": 9,
   "metadata": {},
   "outputs": [],
   "source": [
    "def fit_single_file(file_name):\n",
    "    # raw_f, raw_VNA, amplitude = puf.read_vna(file_name)\n",
    "    #power = -14 + 20*np.log10(amplitude)\n",
    "\n",
    "    ## Open the h5 file for this power and extract the class\n",
    "    sweep = decode_hdf5(file_name)\n",
    "    # sweep.show()\n",
    "\n",
    "    ## Extract the RF power from the h5 file\n",
    "    print(\"Extracting data for power:\",sweep.power,\"dBm\")\n",
    "    # power_list.append(sweep.power)\n",
    "\n",
    "    ## Parse the file, get a complex S21 and frequency in GHz\n",
    "    f = sweep.frequencies / 1.0e9\n",
    "    z = sweep.S21realvals + 1j*sweep.S21imagvals\n",
    "\n",
    "    ## Create an instance of a file fit result class\n",
    "    this_f_r = fitclass.SingleFileResult(file_name)\n",
    "    this_f_r.power = sweep.power\n",
    "    this_f_r.start_T = sweep.start_T\n",
    "    this_f_r.final_T = sweep.final_T\n",
    "\n",
    "    ## Fit this data file\n",
    "    fr, Qr, Qc, Qi, fig = fitres.sweep_fit(f,z,this_f_r,start_f=f[0],stop_f=f[-1])\n",
    "\n",
    "    if (len(fr) > 1):\n",
    "        fr = fr[0]\n",
    "        Qr = Qr[0]\n",
    "        Qc = Qc[0]\n",
    "        Qi = Qi[0]\n",
    "\n",
    "    ## Show the results of the fit\n",
    "    this_f_r.show_fit_results()\n",
    "\n",
    "    ## Get the color for this spectrum\n",
    "    temp = file_name.split('/')[-1].split('_')[1][1:]\n",
    "    color = cm.jet(norm(float(temp)))\n",
    "    \n",
    "    ax_main.plot(f,20*np.log10(abs(np.sqrt(z*z))),label=temp+' mK',color=color, alpha=0.25)\n",
    "\n",
    "    ## Save the figure\n",
    "    plt.gcf()\n",
    "    plt.title(\"Power: \"+str(sweep.power)+\" dBm, Temperature: \"+str(np.mean(sweep.start_T))+\" mK\")\n",
    "    fig.savefig(os.path.join(out_path,\"freq_fit_P\"+str(sweep.power)+\"dBm.png\"), format='png')\n",
    "\n",
    "    ## Return the fit parameters\n",
    "    return sweep.power, fr, Qr, Qc, Qi, this_f_r, temp"
   ]
  },
  {
   "cell_type": "markdown",
   "metadata": {},
   "source": [
    "## Outer Loop\n",
    "Loop over each RF stimulus power, get the S21 vs F data for each T, fit to MB equations, store fit data. Need to separate out Al vs Nb 7 resonators."
   ]
  },
  {
   "cell_type": "code",
   "execution_count": 11,
   "metadata": {},
   "outputs": [
    {
     "name": "stdout",
     "output_type": "stream",
     "text": [
      "[-55 -50 -45 -40 -35 -30 -25 -20 -15]\n"
     ]
    }
   ],
   "source": [
    "## Define the set of powers we're interested in\n",
    "power_range = np.arange(start=pwr_min, stop=pwr_max+pwr_stp, step=pwr_stp)\n",
    "n_powers    = len(power_range)\n",
    "\n",
    "## Start the loop over each power\n",
    "for i in np.arange(n_powers):\n",
    "    pwr = power_range[i]\n",
    "    \n",
    "    ## Get the list of files at this power\n",
    "    p_files = get_input_files(day, pwr)\n",
    "    print(\"Power = \",pwr,\" dBM files:\")\n",
    "    for file in p_files:\n",
    "        print(\"\\t\",file)\n"
   ]
  },
  {
   "cell_type": "markdown",
   "metadata": {},
   "source": [
    "## Money plot\n",
    "Frequency shift vs temperature, one line per RF power."
   ]
  },
  {
   "cell_type": "code",
   "execution_count": null,
   "metadata": {},
   "outputs": [],
   "source": [
    "## Create a figure for the spectra\n",
    "fig_main = plt.figure(200,figsize=(8,6))\n",
    "ax_main  = fig_main.gca()\n",
    "plt.title('MKID Temperature Sweep: Al', fontdict = {'fontsize': 18})\n",
    "plt.xlabel(r'Temperature [mK]', fontdict = {'fontsize': 18})\n",
    "plt.ylabel(r'$\\Delta f$ [kHz]', fontdict = {'fontsize': 18})\n",
    "cbar=plt.colorbar(cm.ScalarMappable(cmap=cm.jet, norm=norm_P),shrink=0.8)\n",
    "cbar.set_label('RF Power [dBm]', size=16)\n",
    "plt.legend(loc='best')#,bbox_to_anchor=(1.,0.5))"
   ]
  },
  {
   "cell_type": "code",
   "execution_count": null,
   "metadata": {},
   "outputs": [],
   "source": []
  }
 ],
 "metadata": {
  "kernelspec": {
   "display_name": "Python 3",
   "language": "python",
   "name": "python3"
  },
  "language_info": {
   "codemirror_mode": {
    "name": "ipython",
    "version": 3
   },
   "file_extension": ".py",
   "mimetype": "text/x-python",
   "name": "python",
   "nbconvert_exporter": "python",
   "pygments_lexer": "ipython3",
   "version": "3.7.4"
  }
 },
 "nbformat": 4,
 "nbformat_minor": 2
}
