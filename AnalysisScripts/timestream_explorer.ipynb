{
 "cells": [
  {
   "cell_type": "code",
   "execution_count": null,
   "metadata": {},
   "outputs": [],
   "source": [
    "import sys, os, glob, h5py\n",
    "import time, datetime\n",
    "import numpy as np\n",
    "import matplotlib.pyplot as plt\n",
    "import pandas as pd\n",
    "\n",
    "import PyMKID_USRP_functions as PUf\n",
    "import PyMKID_resolution_functions as Prf\n",
    "import TimestreamHelperFunctions as Thf"
   ]
  },
  {
   "cell_type": "code",
   "execution_count": null,
   "metadata": {},
   "outputs": [],
   "source": [
    "series    = '20220603_111424'\n",
    "data_path = os.path.join('/data/USRP_Noise_Scans',series.split('_')[0],series)"
   ]
  },
  {
   "cell_type": "code",
   "execution_count": null,
   "metadata": {},
   "outputs": [],
   "source": [
    "## MB Results come from fitting a temperature scan at a specified RF power\n",
    "MB_fit_vals = np.array([4.24216975, \n",
    "                        0.177     ,\n",
    "                        0.0125    ,\n",
    "                        4.1e7     ]) ## [ F0 [GHz] , Delta , alpha , Qi0 ]"
   ]
  },
  {
   "cell_type": "code",
   "execution_count": null,
   "metadata": {},
   "outputs": [],
   "source": [
    "sum_file, dly_file, vna_file, tone_files = Thf.GetFiles(series, verbose=True)\n",
    "metadata, avg_frqs, avg_S21s = Thf.UnpackSummary(sum_file)"
   ]
  },
  {
   "cell_type": "code",
   "execution_count": null,
   "metadata": {
    "scrolled": false
   },
   "outputs": [],
   "source": [
    "powers, PSDs, res, timestreams = Thf.CleanPSDs(tone_files[0], vna_file, f_transient=0.075,\n",
    "                                               charFs = avg_frqs,\n",
    "                                               charZs = avg_S21s,\n",
    "                                               MBresults = MB_fit_vals)"
   ]
  },
  {
   "cell_type": "code",
   "execution_count": null,
   "metadata": {},
   "outputs": [],
   "source": [
    "print(\"powers shape:\",np.shape(powers))\n",
    "print(\"PSDs keys:\", PSDs.keys())\n",
    "print(\"res kes:\", res.keys())\n",
    "print(\"timestreams keys:\", timestreams.keys())"
   ]
  },
  {
   "cell_type": "markdown",
   "metadata": {},
   "source": [
    "## Look at cleaned data file"
   ]
  },
  {
   "cell_type": "code",
   "execution_count": null,
   "metadata": {},
   "outputs": [],
   "source": [
    "f_in = tone_files[0].split('.')[0]+\"_cleaned.h5\"\n",
    "f    = h5py.File(f_in, 'r')\n",
    "print(\"Top-level:\", f.keys(), f.attrs.keys())\n",
    "f.close() ; "
   ]
  },
  {
   "cell_type": "markdown",
   "metadata": {},
   "source": [
    "## Look for pulses"
   ]
  },
  {
   "cell_type": "code",
   "execution_count": null,
   "metadata": {},
   "outputs": [],
   "source": [
    "f = h5py.File(tone_files[0], 'r')\n",
    "print(f['pulses'])\n",
    "f.close()"
   ]
  },
  {
   "cell_type": "code",
   "execution_count": null,
   "metadata": {},
   "outputs": [],
   "source": [
    "## Pull a list of pulse times from the file\n",
    "f = h5py.File(tone_files[0], 'r')\n",
    "p_times = np.array(f['pulses'])\n",
    "f.close()\n",
    "\n",
    "## Strip out the pulses from the transient period\n",
    "p_times = p_times[p_times > timestreams['time'][0]]"
   ]
  },
  {
   "cell_type": "code",
   "execution_count": null,
   "metadata": {},
   "outputs": [],
   "source": [
    "## Create an axis to overlay pulses onto\n",
    "f_1 = plt.figure()\n",
    "ax1 = f_1.gca()\n",
    "ax1.set_xlabel(r\"Time [s]\")\n",
    "ax1.set_ylabel(r\"Arc length timestream\")\n",
    "\n",
    "ax1.plot(timestreams['time'],timestreams['arc'][:,0])\n",
    "\n",
    "ylims=ax1.get_ylim()\n",
    "# for pt in p_times:\n",
    "#     ax1.plot(pt*np.ones(2),ylims,'r--')\n",
    "ax1.set_ylim(ylims)\n",
    "ax1.set_xlim([45.0,55.0])"
   ]
  },
  {
   "cell_type": "code",
   "execution_count": null,
   "metadata": {},
   "outputs": [],
   "source": [
    "## Define a window around the pulse time\n",
    "pre_win_sec = 100. * 1e-6\n",
    "pst_win_sec = 500. * 1e-6\n",
    "\n",
    "## Create an axis to overlay pulses onto\n",
    "fig = plt.figure()\n",
    "ax0 = fig.gca()\n",
    "ax0.set_xlabel(r\"Time since trigger [$\\mu$s]\")\n",
    "ax0.set_ylabel(r\"Arc length timestream\")\n",
    "\n",
    "## What is time resoultion\n",
    "tstep = (timestreams['time'][1:]-timestreams['time'][:-1])[0]\n",
    "# print(np.std(timestreams['time'][1:]-timestreams['time'][:-1]))\n",
    "\n",
    "\n",
    "## Loop over every pulse time\n",
    "for pt in p_times:\n",
    "    t_win_min = pt - pre_win_sec\n",
    "    t_win_max = pt + pst_win_sec\n",
    "    print(pt,t_win_min,t_win_max,(t_win_max-t_win_min)/tstep)\n",
    "    \n",
    "    tvals = timestreams['time'][(timestreams['time']>=t_win_min) * (timestreams['time']<t_win_max)]\n",
    "    avals = timestreams['arc' ][(timestreams['time']>=t_win_min) * (timestreams['time']<t_win_max)]\n",
    "    \n",
    "    ax0.plot((tvals-pt)*1e6, avals, alpha=0.5)\n",
    "\n",
    "ax0.plot(timestreams['time'],timestreams['arc'][:,0])"
   ]
  },
  {
   "cell_type": "markdown",
   "metadata": {},
   "source": [
    "# Look at Raw Data -- Cal Delta = 0"
   ]
  },
  {
   "cell_type": "code",
   "execution_count": null,
   "metadata": {},
   "outputs": [],
   "source": [
    "plt.figure()\n",
    "plt.plot(timesFromRate(rate, len(tone_data[2,:])),logMag(tone_data[2,:]), label=\"Resonator\")\n",
    "plt.plot(timesFromRate(rate, len(tone_data[0,:])),logMag(tone_data[0,:]), label=\"Cleaner 1\")\n",
    "plt.plot(timesFromRate(rate, len(tone_data[1,:])),logMag(tone_data[1,:]), label=\"Cleaner 2\")\n",
    "plt.legend(loc='best')\n",
    "plt.show()"
   ]
  },
  {
   "cell_type": "code",
   "execution_count": null,
   "metadata": {},
   "outputs": [],
   "source": [
    "plt.figure()\n",
    "plt.hist(logMag(tone_data[2,:]), bins=np.linspace(start=-2.3,stop=-2.0,num=500), label=\"Resonator\")\n",
    "plt.hist(logMag(tone_data[0,:]), bins=np.linspace(start=-2.3,stop=-2.0,num=500), label=\"Cleaner 1\")\n",
    "plt.hist(logMag(tone_data[1,:]), bins=np.linspace(start=-2.3,stop=-2.0,num=500), label=\"Cleaner 2\")\n",
    "plt.legend(loc='best')\n",
    "plt.xlabel('LogMag')\n",
    "plt.show()"
   ]
  },
  {
   "cell_type": "code",
   "execution_count": null,
   "metadata": {},
   "outputs": [],
   "source": [
    "cts, edges = np.histogram(logMag(tone_data[2,:]), bins=np.linspace(start=-2.3,stop=-2.2,num=500))\n",
    "ctrs = 0.5*(edges[1:]+edges[:-1])\n",
    "plt.figure()\n",
    "plt.step(edges[:-1],cts,where='post')"
   ]
  },
  {
   "cell_type": "code",
   "execution_count": null,
   "metadata": {},
   "outputs": [],
   "source": [
    "def gauss(x,a,m,s):\n",
    "    z = (x-m)/s\n",
    "    return a * np.exp(-0.5*z*z)\n",
    "\n",
    "from scipy.optimize import curve_fit"
   ]
  },
  {
   "cell_type": "code",
   "execution_count": null,
   "metadata": {},
   "outputs": [],
   "source": [
    "p0 = [np.max(cts),np.mean(logMag(tone_data[2,:])),np.std(logMag(tone_data[2,:]))]\n",
    "popt,pcov = curve_fit(gauss,ctrs,cts,p0=p0)\n",
    "perr = np.sqrt(np.diag(pcov))\n",
    "\n",
    "plt.figure()\n",
    "plt.step(edges[:-1],cts,where='post')\n",
    "plt.plot(ctrs,gauss(ctrs,popt[0],popt[1],popt[2]))\n",
    "plt.show()\n",
    "\n",
    "print(\"Mean:\", popt[1], \"Stdev:\", popt[2])\n",
    "print(\"Sig/Mu:\", popt[2]/popt[1])"
   ]
  },
  {
   "cell_type": "code",
   "execution_count": null,
   "metadata": {},
   "outputs": [],
   "source": [
    "cts0, edges0 = np.histogram(logMag(tone_data[0,:]), bins=np.linspace(start=-2.1,stop=-2.0,num=500))\n",
    "ctrs0 = 0.5*(edges0[1:]+edges0[:-1])\n",
    "\n",
    "p00 = [np.max(cts0),np.mean(logMag(tone_data[0,:])),np.std(logMag(tone_data[0,:]))]\n",
    "popt0,pcov0 = curve_fit(gauss,ctrs0,cts0,p0=p00)\n",
    "perr0 = np.sqrt(np.diag(pcov0))\n",
    "\n",
    "cts1, edges1 = np.histogram(logMag(tone_data[1,:]), bins=np.linspace(start=-2.1,stop=-2.0,num=500))\n",
    "ctrs1 = 0.5*(edges1[1:]+edges1[:-1])\n",
    "\n",
    "p01 = [np.max(cts1),np.mean(logMag(tone_data[1,:])),np.std(logMag(tone_data[1,:]))]\n",
    "popt1,pcov1 = curve_fit(gauss,ctrs1,cts1,p0=p01)\n",
    "perr1 = np.sqrt(np.diag(pcov1))\n",
    "\n",
    "plt.figure()\n",
    "plt.step(edges0[:-1],cts0,where='post')\n",
    "plt.plot(ctrs0,gauss(ctrs0,popt0[0],popt0[1],popt0[2]))\n",
    "\n",
    "plt.step(edges1[:-1],cts1,where='post')\n",
    "plt.plot(ctrs1,gauss(ctrs1,popt1[0],popt1[1],popt1[2]))\n",
    "plt.show()\n",
    "\n",
    "print(\"CLEANING TONE 1\")\n",
    "print(\"Mean:\", popt0[1], \"Stdev:\", popt0[2])\n",
    "print(\"Sig/Mu:\", popt0[2]/popt0[1])\n",
    "\n",
    "\n",
    "print(\"CLEANING TONE 2\")\n",
    "print(\"Mean:\", popt1[1], \"Stdev:\", popt1[2])\n",
    "print(\"Sig/Mu:\", popt1[2]/popt1[1])"
   ]
  },
  {
   "cell_type": "code",
   "execution_count": null,
   "metadata": {},
   "outputs": [],
   "source": [
    "cts0, edges0 = np.histogram(phase(tone_data[0,:]), bins=np.linspace(start=3.5,stop=4.4,num=500))\n",
    "ctrs0 = 0.5*(edges0[1:]+edges0[:-1])\n",
    "\n",
    "p00 = [np.max(cts0),np.mean(phase(tone_data[0,:])),np.std(phase(tone_data[0,:]))]\n",
    "popt0,pcov0 = curve_fit(gauss,ctrs0,cts0,p0=p00)\n",
    "perr0 = np.sqrt(np.diag(pcov0))\n",
    "\n",
    "cts1, edges1 = np.histogram(phase(tone_data[1,:]), bins=np.linspace(start=3.5,stop=4.4,num=500))\n",
    "ctrs1 = 0.5*(edges1[1:]+edges1[:-1])\n",
    "\n",
    "p01 = [np.max(cts1),np.mean(phase(tone_data[1,:])),np.std(phase(tone_data[1,:]))]\n",
    "popt1,pcov1 = curve_fit(gauss,ctrs1,cts1,p0=p01)\n",
    "perr1 = np.sqrt(np.diag(pcov1))\n",
    "\n",
    "ctsR, edgesR = np.histogram(phase(tone_data[2,:]), bins=np.linspace(start=3.5,stop=4.4,num=500))\n",
    "ctrsR = 0.5*(edgesR[1:]+edgesR[:-1])\n",
    "\n",
    "p0R = [np.max(ctsR),np.mean(phase(tone_data[2,:])),np.std(phase(tone_data[2,:]))]\n",
    "poptR,pcovR = curve_fit(gauss,ctrsR,ctsR,p0=p0R)\n",
    "perrR = np.sqrt(np.diag(pcovR))\n",
    "\n",
    "plt.figure()\n",
    "plt.step(edges0[:-1],cts0,where='post')\n",
    "plt.plot(ctrs0,gauss(ctrs0,popt0[0],popt0[1],popt0[2]),label=\"CT1 fit\")\n",
    "\n",
    "plt.step(edges1[:-1],cts1,where='post')\n",
    "plt.plot(ctrs1,gauss(ctrs1,popt1[0],popt1[1],popt1[2]),label=\"CT2 fit\")\n",
    "\n",
    "plt.step(edgesR[:-1],ctsR,where='post')\n",
    "plt.plot(ctrsR,gauss(ctrsR,poptR[0],poptR[1],poptR[2]),label=\"Res fit\")\n",
    "\n",
    "plt.xlabel('Phase [rad]')\n",
    "plt.legend(loc='best')\n",
    "plt.show()\n",
    "\n",
    "print(\"RESONANT TONE\")\n",
    "print(\"Mean:\", poptR[1], \"Stdev:\", poptR[2])\n",
    "print(\"Sig/Mu:\", poptR[2]/poptR[1])\n",
    "\n",
    "print(\"CLEANING TONE 1\")\n",
    "print(\"Mean:\", popt0[1], \"Stdev:\", popt0[2])\n",
    "print(\"Sig/Mu:\", popt0[2]/popt0[1])\n",
    "\n",
    "print(\"CLEANING TONE 2\")\n",
    "print(\"Mean:\", popt1[1], \"Stdev:\", popt1[2])\n",
    "print(\"Sig/Mu:\", popt1[2]/popt1[1])"
   ]
  },
  {
   "cell_type": "code",
   "execution_count": null,
   "metadata": {},
   "outputs": [],
   "source": [
    "plt.figure()\n",
    "plt.plot(timesFromRate(rate, len(tone_data[2,:])),logMag(tone_data[2,:])-0.5*(logMag(tone_data[0,:])+logMag(tone_data[1,:])), label=\"Cleaned Resonator\")\n",
    "plt.legend(loc='best')\n",
    "plt.show()"
   ]
  },
  {
   "cell_type": "code",
   "execution_count": null,
   "metadata": {},
   "outputs": [],
   "source": [
    "def movingAvg(data, winsize):\n",
    "    if (winsize < 2):\n",
    "        print(\"Need a larger window\")\n",
    "        return None\n",
    "    \n",
    "    ## Make sure the box is odd sized\n",
    "    if winsize % 2. == 0:\n",
    "        halfwin  = winsize/2.\n",
    "        winsize += 1\n",
    "    else:\n",
    "        halfwin  = (winsize-1)/2.\n",
    "        \n",
    "    ## Create an output container\n",
    "    data_avg = np.zeros(len(data)-winsize+1)\n",
    "    \n",
    "    for i in np.arange(len(data_avg)):\n",
    "        data_i = int(i+halfwin)\n",
    "        i_min  = int(data_i-halfwin)\n",
    "        i_max  = int(data_i+halfwin+1)\n",
    "        data_avg[i] = np.mean(data[i_min:i_max])\n",
    "    \n",
    "    "
   ]
  },
  {
   "cell_type": "code",
   "execution_count": null,
   "metadata": {},
   "outputs": [],
   "source": [
    "plt.figure()\n",
    "plt.plot(movingAvg(logMag(tone_data[2,:])-0.5*(logMag(tone_data[0,:])+logMag(tone_data[1,:])),15), label=\"Cleaned Resonator\")\n",
    "plt.show()"
   ]
  },
  {
   "cell_type": "code",
   "execution_count": null,
   "metadata": {},
   "outputs": [],
   "source": []
  }
 ],
 "metadata": {
  "kernelspec": {
   "display_name": "Python 3",
   "language": "python",
   "name": "python3"
  },
  "language_info": {
   "codemirror_mode": {
    "name": "ipython",
    "version": 3
   },
   "file_extension": ".py",
   "mimetype": "text/x-python",
   "name": "python",
   "nbconvert_exporter": "python",
   "pygments_lexer": "ipython3",
   "version": "3.8.5"
  }
 },
 "nbformat": 4,
 "nbformat_minor": 4
}
